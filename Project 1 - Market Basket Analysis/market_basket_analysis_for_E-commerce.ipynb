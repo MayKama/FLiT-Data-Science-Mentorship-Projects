{
 "cells": [
  {
   "cell_type": "markdown",
   "metadata": {
    "id": "U5vgqnU9TEH9"
   },
   "source": [
    "TOPIC: Market Basket Analysis for E-commerce\n",
    "\n"
   ]
  },
  {
   "cell_type": "markdown",
   "metadata": {
    "id": "rBhXsycdWv3k"
   },
   "source": [
    "# INTRODUCTION\n",
    "Market Basket Analysis for E-commerce\n",
    "\n",
    "Market Basket Analysis is one of the key techniques used by large retailers to uncover associations between items. It works by looking for combinations of items that occur together frequently in transactions. It allows retailers to identify relationships between the items that people buy.\n",
    "\n",
    "- Using Aprori Algorithm to perform the analysis: \n",
    "The apriori algorithm is  a classical algorithm in data minning that we can use for marketting application.  It is very important in market basket analysis and it helps customers in purchasing their items with ease which as well help the business to know and decide the items to purchase in realtion to the other.This increases the market sales.  \n",
    "\n",
    "\n"
   ]
  },
  {
   "cell_type": "markdown",
   "metadata": {
    "id": "fUFBkk3-TQnu"
   },
   "source": [
    "# **Objective**\n",
    "\n",
    "The goal of this project is to get introduced to the concept of market basket analysis, which is a crucial aspect of data science in retail and e-commerce. \n",
    "Here we learnt how to extract valuable insights from transaction data, understand customer purchasing behaviour, and use the knowledge for business optimization."
   ]
  },
  {
   "cell_type": "markdown",
   "metadata": {
    "id": "it6qxiJBT00g"
   },
   "source": [
    "Market Basket Analysis for E-commerce Imagine you are working for a retail company, and you have access to a dataset containing customer transactions. Your task is to perform market basket analysis to uncover patterns in customer purchasing behavior. By identifying which products  tend  to  be  bought  together,  the  company  can  make  informed  decisions  to  improve  sales  and  customer satisfaction.\n",
    "\n",
    "# **Tools used**\n",
    "**Data Analysis Tool:**\n",
    " Python (using libraries like Pandas, etc.)\n",
    "\n",
    " **Data Visualization Tool:**  Matplotlib, Seaborn•Scikit-Learn•Jupyter NotebookTool\n",
    "\n",
    "\n"
   ]
  },
  {
   "cell_type": "markdown",
   "metadata": {
    "id": "Nb4RO9pTVFYN"
   },
   "source": [
    "High-Level Steps:\n",
    "\n",
    "1.Data desription\n",
    "\n",
    "2.Data Preparation\n",
    "\n",
    "3.Exploratory Data Analysis (EDA)\n",
    "\n",
    "4.Market Basket Analysis: Using Aprori Algorithm\n",
    "\n",
    "5.Visualization\n",
    "\n",
    "6.Interpretation and Insights\n",
    "\n",
    "7.Recommendations\n",
    "\n",
    "8.Presentation# New Section"
   ]
  },
  {
   "cell_type": "markdown",
   "metadata": {
    "id": "uWcO6lPu5UVG"
   },
   "source": [
    "**Data Description**`\n",
    "\n",
    "Our data has 38765 row and 3 columns. Each entry contains the following information\n",
    "\n",
    "1. Member number: the number of people that purchased item in a specific date\n",
    "2. Date: the days at which items re purchased\n",
    "3. Item description: describes the items purchased\n"
   ]
  },
  {
   "cell_type": "markdown",
   "metadata": {
    "id": "aYOMNe_561yt"
   },
   "source": [
    "# Exploratory Data Analysis(EDA)\n",
    "data preparation\n",
    "\n",
    "data cleaning\n",
    "```\n",
    "# This is formatted as code\n",
    "```\n",
    "\n"
   ]
  },
  {
   "cell_type": "markdown",
   "metadata": {
    "id": "EEe50y2oqMNq"
   },
   "source": [
    "**Data Preparation**"
   ]
  },
  {
   "cell_type": "code",
   "execution_count": 40,
   "metadata": {
    "colab": {
     "base_uri": "https://localhost:8080/"
    },
    "executionInfo": {
     "elapsed": 28496,
     "status": "ok",
     "timestamp": 1701161392989,
     "user": {
      "displayName": "mary kama",
      "userId": "01205540765635897452"
     },
     "user_tz": -60
    },
    "id": "mPNZFR4zqBlT",
    "outputId": "01fb92b8-cd7d-4b98-9882-1c450fa64020"
   },
   "outputs": [],
   "source": [
    "# importing the necessary libraries\n",
    "import numpy as np\n",
    "import pandas as pd\n",
    "import matplotlib.pyplot as plt # for plotting\n",
    "import matplotlib.dates as md\n",
    "import seaborn as sns\n",
    "import datetime as dt\n",
    "%matplotlib inline\n",
    "import warnings\n",
    "warnings.filterwarnings('ignore')\n"
   ]
  },
  {
   "cell_type": "markdown",
   "metadata": {},
   "source": [
    "### reading or loading the data set"
   ]
  },
  {
   "cell_type": "code",
   "execution_count": 2,
   "metadata": {
    "id": "fx3jUiltrV5X"
   },
   "outputs": [],
   "source": [
    "data=pd.read_csv(\"Groceries_dataset.csv\")"
   ]
  },
  {
   "cell_type": "code",
   "execution_count": 3,
   "metadata": {
    "colab": {
     "base_uri": "https://localhost:8080/",
     "height": 206
    },
    "executionInfo": {
     "elapsed": 615,
     "status": "ok",
     "timestamp": 1701163999395,
     "user": {
      "displayName": "mary kama",
      "userId": "01205540765635897452"
     },
     "user_tz": -60
    },
    "id": "LQyjS0pFrdVs",
    "outputId": "2a4cfded-5ec5-4eb6-9a5c-8f252b1d7dbf"
   },
   "outputs": [
    {
     "data": {
      "text/html": [
       "<div>\n",
       "<style scoped>\n",
       "    .dataframe tbody tr th:only-of-type {\n",
       "        vertical-align: middle;\n",
       "    }\n",
       "\n",
       "    .dataframe tbody tr th {\n",
       "        vertical-align: top;\n",
       "    }\n",
       "\n",
       "    .dataframe thead th {\n",
       "        text-align: right;\n",
       "    }\n",
       "</style>\n",
       "<table border=\"1\" class=\"dataframe\">\n",
       "  <thead>\n",
       "    <tr style=\"text-align: right;\">\n",
       "      <th></th>\n",
       "      <th>Member_number</th>\n",
       "      <th>Date</th>\n",
       "      <th>itemDescription</th>\n",
       "    </tr>\n",
       "  </thead>\n",
       "  <tbody>\n",
       "    <tr>\n",
       "      <th>0</th>\n",
       "      <td>1808</td>\n",
       "      <td>21-07-2015</td>\n",
       "      <td>tropical fruit</td>\n",
       "    </tr>\n",
       "    <tr>\n",
       "      <th>1</th>\n",
       "      <td>2552</td>\n",
       "      <td>05-01-2015</td>\n",
       "      <td>whole milk</td>\n",
       "    </tr>\n",
       "    <tr>\n",
       "      <th>2</th>\n",
       "      <td>2300</td>\n",
       "      <td>19-09-2015</td>\n",
       "      <td>pip fruit</td>\n",
       "    </tr>\n",
       "    <tr>\n",
       "      <th>3</th>\n",
       "      <td>1187</td>\n",
       "      <td>12-12-2015</td>\n",
       "      <td>other vegetables</td>\n",
       "    </tr>\n",
       "    <tr>\n",
       "      <th>4</th>\n",
       "      <td>3037</td>\n",
       "      <td>01-02-2015</td>\n",
       "      <td>whole milk</td>\n",
       "    </tr>\n",
       "  </tbody>\n",
       "</table>\n",
       "</div>"
      ],
      "text/plain": [
       "   Member_number        Date   itemDescription\n",
       "0           1808  21-07-2015    tropical fruit\n",
       "1           2552  05-01-2015        whole milk\n",
       "2           2300  19-09-2015         pip fruit\n",
       "3           1187  12-12-2015  other vegetables\n",
       "4           3037  01-02-2015        whole milk"
      ]
     },
     "execution_count": 3,
     "metadata": {},
     "output_type": "execute_result"
    }
   ],
   "source": [
    "#printing by default 5 rows of the data set\n",
    "data.head()"
   ]
  },
  {
   "cell_type": "markdown",
   "metadata": {
    "id": "IQLUpkJHr1xI"
   },
   "source": [
    "**Exploring the data**\n",
    "\n",
    "Data Cleaning"
   ]
  },
  {
   "cell_type": "code",
   "execution_count": 4,
   "metadata": {
    "colab": {
     "base_uri": "https://localhost:8080/"
    },
    "executionInfo": {
     "elapsed": 7,
     "status": "ok",
     "timestamp": 1701164002792,
     "user": {
      "displayName": "mary kama",
      "userId": "01205540765635897452"
     },
     "user_tz": -60
    },
    "id": "l3YNi288roGu",
    "outputId": "c9d1d954-aa8b-4748-9205-48f64bffc4fe"
   },
   "outputs": [
    {
     "name": "stdout",
     "output_type": "stream",
     "text": [
      "<class 'pandas.core.frame.DataFrame'>\n",
      "RangeIndex: 38765 entries, 0 to 38764\n",
      "Data columns (total 3 columns):\n",
      " #   Column           Non-Null Count  Dtype \n",
      "---  ------           --------------  ----- \n",
      " 0   Member_number    38765 non-null  int64 \n",
      " 1   Date             38765 non-null  object\n",
      " 2   itemDescription  38765 non-null  object\n",
      "dtypes: int64(1), object(2)\n",
      "memory usage: 908.7+ KB\n"
     ]
    }
   ],
   "source": [
    "data.info()"
   ]
  },
  {
   "cell_type": "code",
   "execution_count": 5,
   "metadata": {
    "colab": {
     "base_uri": "https://localhost:8080/"
    },
    "executionInfo": {
     "elapsed": 11,
     "status": "ok",
     "timestamp": 1701164004567,
     "user": {
      "displayName": "mary kama",
      "userId": "01205540765635897452"
     },
     "user_tz": -60
    },
    "id": "tdaamJl5sOea",
    "outputId": "037c9217-cd92-4cad-b44b-15b5c268fde4"
   },
   "outputs": [
    {
     "data": {
      "text/plain": [
       "(38765, 3)"
      ]
     },
     "execution_count": 5,
     "metadata": {},
     "output_type": "execute_result"
    }
   ],
   "source": [
    "#checking the total number of rows and column in the data set\n",
    "data.shape"
   ]
  },
  {
   "cell_type": "code",
   "execution_count": 6,
   "metadata": {
    "colab": {
     "base_uri": "https://localhost:8080/"
    },
    "executionInfo": {
     "elapsed": 7,
     "status": "ok",
     "timestamp": 1701164006879,
     "user": {
      "displayName": "mary kama",
      "userId": "01205540765635897452"
     },
     "user_tz": -60
    },
    "id": "y68_zrWTsV4W",
    "outputId": "34e07892-e1f7-4cc7-97de-324e2337b1c2"
   },
   "outputs": [
    {
     "data": {
      "text/plain": [
       "Member_number      False\n",
       "Date               False\n",
       "itemDescription    False\n",
       "dtype: bool"
      ]
     },
     "execution_count": 6,
     "metadata": {},
     "output_type": "execute_result"
    }
   ],
   "source": [
    "#checking for null values\n",
    "data.isnull().any()"
   ]
  },
  {
   "cell_type": "markdown",
   "metadata": {
    "id": "yoG_I6iatRVT"
   },
   "source": [
    "Observation\n",
    "\n",
    "There is no null value in the data set"
   ]
  },
  {
   "cell_type": "code",
   "execution_count": 7,
   "metadata": {
    "colab": {
     "base_uri": "https://localhost:8080/"
    },
    "executionInfo": {
     "elapsed": 4,
     "status": "ok",
     "timestamp": 1701164009383,
     "user": {
      "displayName": "mary kama",
      "userId": "01205540765635897452"
     },
     "user_tz": -60
    },
    "id": "pbrCR5DjuPB4",
    "outputId": "253a2e71-572d-4451-c862-9f7357e509f3"
   },
   "outputs": [
    {
     "data": {
      "text/plain": [
       "['Member_Number', 'Date', 'Item_Description']"
      ]
     },
     "execution_count": 7,
     "metadata": {},
     "output_type": "execute_result"
    }
   ],
   "source": [
    "#changing the column name\n",
    "column= data.columns.to_list()\n",
    "column[0]=\"Member_Number\"\n",
    "column[2] = 'Item_Description'\n",
    "column"
   ]
  },
  {
   "cell_type": "code",
   "execution_count": 8,
   "metadata": {
    "id": "7sJZqlhLvyHN"
   },
   "outputs": [],
   "source": [
    "data.columns =column"
   ]
  },
  {
   "cell_type": "code",
   "execution_count": 9,
   "metadata": {
    "colab": {
     "base_uri": "https://localhost:8080/",
     "height": 300
    },
    "executionInfo": {
     "elapsed": 14,
     "status": "ok",
     "timestamp": 1701164013327,
     "user": {
      "displayName": "mary kama",
      "userId": "01205540765635897452"
     },
     "user_tz": -60
    },
    "id": "hGA-rNWis2Bi",
    "outputId": "80336ac1-c588-4e6d-f799-80d6411a208c"
   },
   "outputs": [
    {
     "data": {
      "text/html": [
       "<div>\n",
       "<style scoped>\n",
       "    .dataframe tbody tr th:only-of-type {\n",
       "        vertical-align: middle;\n",
       "    }\n",
       "\n",
       "    .dataframe tbody tr th {\n",
       "        vertical-align: top;\n",
       "    }\n",
       "\n",
       "    .dataframe thead th {\n",
       "        text-align: right;\n",
       "    }\n",
       "</style>\n",
       "<table border=\"1\" class=\"dataframe\">\n",
       "  <thead>\n",
       "    <tr style=\"text-align: right;\">\n",
       "      <th></th>\n",
       "      <th>Member_Number</th>\n",
       "    </tr>\n",
       "  </thead>\n",
       "  <tbody>\n",
       "    <tr>\n",
       "      <th>count</th>\n",
       "      <td>38765.000000</td>\n",
       "    </tr>\n",
       "    <tr>\n",
       "      <th>mean</th>\n",
       "      <td>3003.641868</td>\n",
       "    </tr>\n",
       "    <tr>\n",
       "      <th>std</th>\n",
       "      <td>1153.611031</td>\n",
       "    </tr>\n",
       "    <tr>\n",
       "      <th>min</th>\n",
       "      <td>1000.000000</td>\n",
       "    </tr>\n",
       "    <tr>\n",
       "      <th>25%</th>\n",
       "      <td>2002.000000</td>\n",
       "    </tr>\n",
       "    <tr>\n",
       "      <th>50%</th>\n",
       "      <td>3005.000000</td>\n",
       "    </tr>\n",
       "    <tr>\n",
       "      <th>75%</th>\n",
       "      <td>4007.000000</td>\n",
       "    </tr>\n",
       "    <tr>\n",
       "      <th>max</th>\n",
       "      <td>5000.000000</td>\n",
       "    </tr>\n",
       "  </tbody>\n",
       "</table>\n",
       "</div>"
      ],
      "text/plain": [
       "       Member_Number\n",
       "count   38765.000000\n",
       "mean     3003.641868\n",
       "std      1153.611031\n",
       "min      1000.000000\n",
       "25%      2002.000000\n",
       "50%      3005.000000\n",
       "75%      4007.000000\n",
       "max      5000.000000"
      ]
     },
     "execution_count": 9,
     "metadata": {},
     "output_type": "execute_result"
    }
   ],
   "source": [
    "# to get the statistical value of the data set\n",
    "data.describe()"
   ]
  },
  {
   "cell_type": "code",
   "execution_count": 10,
   "metadata": {
    "colab": {
     "base_uri": "https://localhost:8080/"
    },
    "executionInfo": {
     "elapsed": 12,
     "status": "ok",
     "timestamp": 1701164016639,
     "user": {
      "displayName": "mary kama",
      "userId": "01205540765635897452"
     },
     "user_tz": -60
    },
    "id": "xUwP4Xh-tpiv",
    "outputId": "165fa24c-2318-4679-fee9-be8d7f7c684b"
   },
   "outputs": [
    {
     "data": {
      "text/plain": [
       "0       2015-07-21\n",
       "1       2015-05-01\n",
       "2       2015-09-19\n",
       "3       2015-12-12\n",
       "4       2015-01-02\n",
       "           ...    \n",
       "38760   2014-08-10\n",
       "38761   2014-02-23\n",
       "38762   2014-04-16\n",
       "38763   2014-03-12\n",
       "38764   2014-12-26\n",
       "Name: Date, Length: 38765, dtype: datetime64[ns]"
      ]
     },
     "execution_count": 10,
     "metadata": {},
     "output_type": "execute_result"
    }
   ],
   "source": [
    "#working with the date from start to end\n",
    "data['Date'] = pd.to_datetime(data['Date'])\n",
    "\n",
    "#data.sort_values(by='Dates', ascending = False, inplace = True)\n",
    "data['Date']\n",
    "\n"
   ]
  },
  {
   "cell_type": "code",
   "execution_count": 11,
   "metadata": {
    "colab": {
     "base_uri": "https://localhost:8080/"
    },
    "executionInfo": {
     "elapsed": 9,
     "status": "ok",
     "timestamp": 1701164019321,
     "user": {
      "displayName": "mary kama",
      "userId": "01205540765635897452"
     },
     "user_tz": -60
    },
    "id": "xqd4ue6CweD1",
    "outputId": "17beef14-feeb-41d6-b2aa-21681b5959bd"
   },
   "outputs": [
    {
     "data": {
      "text/plain": [
       "Timedelta('728 days 00:00:00')"
      ]
     },
     "execution_count": 11,
     "metadata": {},
     "output_type": "execute_result"
    }
   ],
   "source": [
    "#finding the duration of time of which the analysis is to be carried out\n",
    "data['Date'].max() - data['Date'].min()\n"
   ]
  },
  {
   "cell_type": "code",
   "execution_count": 12,
   "metadata": {
    "colab": {
     "base_uri": "https://localhost:8080/",
     "height": 300
    },
    "executionInfo": {
     "elapsed": 19,
     "status": "ok",
     "timestamp": 1701164021709,
     "user": {
      "displayName": "mary kama",
      "userId": "01205540765635897452"
     },
     "user_tz": -60
    },
    "id": "Jt3HReb4xBcs",
    "outputId": "c7986e64-2fb2-449f-c19c-d5d8f2074c63"
   },
   "outputs": [
    {
     "data": {
      "text/html": [
       "<div>\n",
       "<style scoped>\n",
       "    .dataframe tbody tr th:only-of-type {\n",
       "        vertical-align: middle;\n",
       "    }\n",
       "\n",
       "    .dataframe tbody tr th {\n",
       "        vertical-align: top;\n",
       "    }\n",
       "\n",
       "    .dataframe thead th {\n",
       "        text-align: right;\n",
       "    }\n",
       "</style>\n",
       "<table border=\"1\" class=\"dataframe\">\n",
       "  <thead>\n",
       "    <tr style=\"text-align: right;\">\n",
       "      <th></th>\n",
       "      <th>Member_Number</th>\n",
       "    </tr>\n",
       "  </thead>\n",
       "  <tbody>\n",
       "    <tr>\n",
       "      <th>count</th>\n",
       "      <td>30</td>\n",
       "    </tr>\n",
       "    <tr>\n",
       "      <th>mean</th>\n",
       "      <td>2847</td>\n",
       "    </tr>\n",
       "    <tr>\n",
       "      <th>std</th>\n",
       "      <td>1314</td>\n",
       "    </tr>\n",
       "    <tr>\n",
       "      <th>min</th>\n",
       "      <td>1045</td>\n",
       "    </tr>\n",
       "    <tr>\n",
       "      <th>25%</th>\n",
       "      <td>1635</td>\n",
       "    </tr>\n",
       "    <tr>\n",
       "      <th>50%</th>\n",
       "      <td>2806</td>\n",
       "    </tr>\n",
       "    <tr>\n",
       "      <th>75%</th>\n",
       "      <td>4255</td>\n",
       "    </tr>\n",
       "    <tr>\n",
       "      <th>max</th>\n",
       "      <td>4879</td>\n",
       "    </tr>\n",
       "  </tbody>\n",
       "</table>\n",
       "</div>"
      ],
      "text/plain": [
       "       Member_Number\n",
       "count             30\n",
       "mean            2847\n",
       "std             1314\n",
       "min             1045\n",
       "25%             1635\n",
       "50%             2806\n",
       "75%             4255\n",
       "max             4879"
      ]
     },
     "execution_count": 12,
     "metadata": {},
     "output_type": "execute_result"
    }
   ],
   "source": [
    "data.iloc[-30:].describe().astype(int)\n"
   ]
  },
  {
   "cell_type": "markdown",
   "metadata": {
    "id": "d1lbRp0sC5nj"
   },
   "source": [
    "Observation from the table above:\n",
    "\n",
    "In the last 30 days, the average items purchased by people was about 2847.\n",
    "When the time of the trade was about 75%, the number of members who purchased items were below 4255 and it reached a maximum of 4879 number of members.\n",
    "And the median qauntity is 1045\n"
   ]
  },
  {
   "cell_type": "markdown",
   "metadata": {
    "id": "HCnGZR0yXq7Q"
   },
   "source": [
    "**Checking the uniqueness of the data set**"
   ]
  },
  {
   "cell_type": "code",
   "execution_count": 13,
   "metadata": {
    "colab": {
     "base_uri": "https://localhost:8080/"
    },
    "executionInfo": {
     "elapsed": 7,
     "status": "ok",
     "timestamp": 1701165636157,
     "user": {
      "displayName": "mary kama",
      "userId": "01205540765635897452"
     },
     "user_tz": -60
    },
    "id": "kOj1OdeVXwTl",
    "outputId": "e91da0aa-7235-4f8f-9641-d38fede97049"
   },
   "outputs": [
    {
     "data": {
      "text/plain": [
       "array([1808, 2552, 2300, ..., 3607, 4587, 2417], dtype=int64)"
      ]
     },
     "execution_count": 13,
     "metadata": {},
     "output_type": "execute_result"
    }
   ],
   "source": [
    "data['Member_Number'].unique()"
   ]
  },
  {
   "cell_type": "code",
   "execution_count": 14,
   "metadata": {
    "colab": {
     "base_uri": "https://localhost:8080/"
    },
    "executionInfo": {
     "elapsed": 15,
     "status": "ok",
     "timestamp": 1701165821992,
     "user": {
      "displayName": "mary kama",
      "userId": "01205540765635897452"
     },
     "user_tz": -60
    },
    "id": "OO71ZEEtYg7x",
    "outputId": "36ec1d4d-1b06-4631-c2a4-2fde4d621641"
   },
   "outputs": [
    {
     "data": {
      "text/plain": [
       "array(['tropical fruit', 'whole milk', 'pip fruit', 'other vegetables',\n",
       "       'rolls/buns', 'pot plants', 'citrus fruit', 'beef', 'frankfurter',\n",
       "       'chicken', 'butter', 'fruit/vegetable juice',\n",
       "       'packaged fruit/vegetables', 'chocolate', 'specialty bar',\n",
       "       'butter milk', 'bottled water', 'yogurt', 'sausage', 'brown bread',\n",
       "       'hamburger meat', 'root vegetables', 'pork', 'pastry',\n",
       "       'canned beer', 'berries', 'coffee', 'misc. beverages', 'ham',\n",
       "       'turkey', 'curd cheese', 'red/blush wine',\n",
       "       'frozen potato products', 'flour', 'sugar', 'frozen meals',\n",
       "       'herbs', 'soda', 'detergent', 'grapes', 'processed cheese', 'fish',\n",
       "       'sparkling wine', 'newspapers', 'curd', 'pasta', 'popcorn',\n",
       "       'finished products', 'beverages', 'bottled beer', 'dessert',\n",
       "       'dog food', 'specialty chocolate', 'condensed milk', 'cleaner',\n",
       "       'white wine', 'meat', 'ice cream', 'hard cheese', 'cream cheese ',\n",
       "       'liquor', 'pickled vegetables', 'liquor (appetizer)', 'UHT-milk',\n",
       "       'candy', 'onions', 'hair spray', 'photo/film', 'domestic eggs',\n",
       "       'margarine', 'shopping bags', 'salt', 'oil', 'whipped/sour cream',\n",
       "       'frozen vegetables', 'sliced cheese', 'dish cleaner',\n",
       "       'baking powder', 'specialty cheese', 'salty snack',\n",
       "       'Instant food products', 'pet care', 'white bread',\n",
       "       'female sanitary products', 'cling film/bags', 'soap',\n",
       "       'frozen chicken', 'house keeping products', 'spread cheese',\n",
       "       'decalcifier', 'frozen dessert', 'vinegar', 'nuts/prunes',\n",
       "       'potato products', 'frozen fish', 'hygiene articles',\n",
       "       'artif. sweetener', 'light bulbs', 'canned vegetables',\n",
       "       'chewing gum', 'canned fish', 'cookware', 'semi-finished bread',\n",
       "       'cat food', 'bathroom cleaner', 'prosecco', 'liver loaf',\n",
       "       'zwieback', 'canned fruit', 'frozen fruits', 'brandy',\n",
       "       'baby cosmetics', 'spices', 'napkins', 'waffles', 'sauces', 'rum',\n",
       "       'chocolate marshmallow', 'long life bakery product', 'bags',\n",
       "       'sweet spreads', 'soups', 'mustard', 'specialty fat',\n",
       "       'instant coffee', 'snack products', 'organic sausage',\n",
       "       'soft cheese', 'mayonnaise', 'dental care', 'roll products ',\n",
       "       'kitchen towels', 'flower soil/fertilizer', 'cereals',\n",
       "       'meat spreads', 'dishes', 'male cosmetics', 'candles', 'whisky',\n",
       "       'tidbits', 'cooking chocolate', 'seasonal products', 'liqueur',\n",
       "       'abrasive cleaner', 'syrup', 'ketchup', 'cream', 'skin care',\n",
       "       'rubbing alcohol', 'nut snack', 'cocoa drinks', 'softener',\n",
       "       'organic products', 'cake bar', 'honey', 'jam', 'kitchen utensil',\n",
       "       'flower (seeds)', 'rice', 'tea', 'salad dressing',\n",
       "       'specialty vegetables', 'pudding powder', 'ready soups',\n",
       "       'make up remover', 'toilet cleaner', 'preservation products'],\n",
       "      dtype=object)"
      ]
     },
     "execution_count": 14,
     "metadata": {},
     "output_type": "execute_result"
    }
   ],
   "source": [
    "data['Item_Description'].unique()"
   ]
  },
  {
   "cell_type": "code",
   "execution_count": 15,
   "metadata": {
    "colab": {
     "base_uri": "https://localhost:8080/"
    },
    "executionInfo": {
     "elapsed": 20,
     "status": "ok",
     "timestamp": 1701165726453,
     "user": {
      "displayName": "mary kama",
      "userId": "01205540765635897452"
     },
     "user_tz": -60
    },
    "id": "ifZ7qdxnXqXF",
    "outputId": "5b9605e2-6282-4fb6-f419-fbb3e03c17f7"
   },
   "outputs": [
    {
     "data": {
      "text/plain": [
       "array(['2015-07-21T00:00:00.000000000', '2015-05-01T00:00:00.000000000',\n",
       "       '2015-09-19T00:00:00.000000000', '2015-12-12T00:00:00.000000000',\n",
       "       '2015-01-02T00:00:00.000000000', '2015-02-14T00:00:00.000000000',\n",
       "       '2015-08-05T00:00:00.000000000', '2015-12-23T00:00:00.000000000',\n",
       "       '2015-03-20T00:00:00.000000000', '2015-12-02T00:00:00.000000000',\n",
       "       '2015-02-24T00:00:00.000000000', '2015-04-14T00:00:00.000000000',\n",
       "       '2015-03-09T00:00:00.000000000', '2015-03-30T00:00:00.000000000',\n",
       "       '2015-03-05T00:00:00.000000000', '2015-02-09T00:00:00.000000000',\n",
       "       '2015-03-08T00:00:00.000000000', '2015-07-07T00:00:00.000000000',\n",
       "       '2015-08-09T00:00:00.000000000', '2015-12-11T00:00:00.000000000',\n",
       "       '2015-09-18T00:00:00.000000000', '2015-11-30T00:00:00.000000000',\n",
       "       '2015-07-17T00:00:00.000000000', '2015-12-06T00:00:00.000000000',\n",
       "       '2015-02-13T00:00:00.000000000', '2015-01-14T00:00:00.000000000',\n",
       "       '2015-08-03T00:00:00.000000000', '2015-01-27T00:00:00.000000000',\n",
       "       '2015-10-22T00:00:00.000000000', '2015-10-26T00:00:00.000000000',\n",
       "       '2015-08-10T00:00:00.000000000', '2015-03-10T00:00:00.000000000',\n",
       "       '2015-11-04T00:00:00.000000000', '2015-02-21T00:00:00.000000000',\n",
       "       '2015-09-29T00:00:00.000000000', '2015-09-01T00:00:00.000000000',\n",
       "       '2015-03-04T00:00:00.000000000', '2015-04-20T00:00:00.000000000',\n",
       "       '2015-04-08T00:00:00.000000000', '2015-07-19T00:00:00.000000000',\n",
       "       '2015-06-10T00:00:00.000000000', '2015-10-16T00:00:00.000000000',\n",
       "       '2015-06-06T00:00:00.000000000', '2015-09-26T00:00:00.000000000',\n",
       "       '2015-08-15T00:00:00.000000000', '2015-05-21T00:00:00.000000000',\n",
       "       '2015-08-25T00:00:00.000000000', '2015-11-03T00:00:00.000000000',\n",
       "       '2015-05-06T00:00:00.000000000', '2015-07-28T00:00:00.000000000',\n",
       "       '2015-05-09T00:00:00.000000000', '2015-06-19T00:00:00.000000000',\n",
       "       '2015-11-10T00:00:00.000000000', '2015-06-16T00:00:00.000000000',\n",
       "       '2015-01-20T00:00:00.000000000', '2015-02-15T00:00:00.000000000',\n",
       "       '2015-04-13T00:00:00.000000000', '2015-07-02T00:00:00.000000000',\n",
       "       '2015-02-03T00:00:00.000000000', '2015-03-14T00:00:00.000000000',\n",
       "       '2015-12-22T00:00:00.000000000', '2015-01-07T00:00:00.000000000',\n",
       "       '2015-03-11T00:00:00.000000000', '2015-12-04T00:00:00.000000000',\n",
       "       '2015-05-05T00:00:00.000000000', '2015-12-05T00:00:00.000000000',\n",
       "       '2015-08-07T00:00:00.000000000', '2015-09-21T00:00:00.000000000',\n",
       "       '2015-10-12T00:00:00.000000000', '2015-09-30T00:00:00.000000000',\n",
       "       '2015-01-31T00:00:00.000000000', '2015-12-13T00:00:00.000000000',\n",
       "       '2015-04-03T00:00:00.000000000', '2015-12-20T00:00:00.000000000',\n",
       "       '2015-06-11T00:00:00.000000000', '2015-02-18T00:00:00.000000000',\n",
       "       '2015-07-22T00:00:00.000000000', '2015-08-23T00:00:00.000000000',\n",
       "       '2015-04-15T00:00:00.000000000', '2015-01-26T00:00:00.000000000',\n",
       "       '2015-12-29T00:00:00.000000000', '2015-10-20T00:00:00.000000000',\n",
       "       '2015-08-17T00:00:00.000000000', '2015-05-17T00:00:00.000000000',\n",
       "       '2015-07-25T00:00:00.000000000', '2015-11-09T00:00:00.000000000',\n",
       "       '2015-06-18T00:00:00.000000000', '2015-08-12T00:00:00.000000000',\n",
       "       '2015-04-25T00:00:00.000000000', '2015-05-14T00:00:00.000000000',\n",
       "       '2015-04-05T00:00:00.000000000', '2015-10-10T00:00:00.000000000',\n",
       "       '2015-11-06T00:00:00.000000000', '2015-10-30T00:00:00.000000000',\n",
       "       '2015-05-23T00:00:00.000000000', '2015-07-11T00:00:00.000000000',\n",
       "       '2015-04-09T00:00:00.000000000', '2015-05-18T00:00:00.000000000',\n",
       "       '2015-03-26T00:00:00.000000000', '2015-06-23T00:00:00.000000000',\n",
       "       '2015-10-08T00:00:00.000000000', '2015-07-23T00:00:00.000000000',\n",
       "       '2015-01-06T00:00:00.000000000', '2015-05-15T00:00:00.000000000',\n",
       "       '2015-06-14T00:00:00.000000000', '2015-08-08T00:00:00.000000000',\n",
       "       '2015-10-06T00:00:00.000000000', '2015-11-11T00:00:00.000000000',\n",
       "       '2015-09-15T00:00:00.000000000', '2015-06-27T00:00:00.000000000',\n",
       "       '2015-01-13T00:00:00.000000000', '2015-06-09T00:00:00.000000000',\n",
       "       '2015-08-22T00:00:00.000000000', '2015-02-25T00:00:00.000000000',\n",
       "       '2015-02-22T00:00:00.000000000', '2015-01-16T00:00:00.000000000',\n",
       "       '2015-11-19T00:00:00.000000000', '2015-08-19T00:00:00.000000000',\n",
       "       '2015-06-24T00:00:00.000000000', '2015-10-03T00:00:00.000000000',\n",
       "       '2015-01-21T00:00:00.000000000', '2015-07-18T00:00:00.000000000',\n",
       "       '2015-08-02T00:00:00.000000000', '2015-08-06T00:00:00.000000000',\n",
       "       '2015-09-06T00:00:00.000000000', '2015-03-16T00:00:00.000000000',\n",
       "       '2015-07-03T00:00:00.000000000', '2015-05-31T00:00:00.000000000',\n",
       "       '2015-06-30T00:00:00.000000000', '2015-08-27T00:00:00.000000000',\n",
       "       '2015-05-03T00:00:00.000000000', '2015-04-17T00:00:00.000000000',\n",
       "       '2015-06-25T00:00:00.000000000', '2015-04-10T00:00:00.000000000',\n",
       "       '2015-07-05T00:00:00.000000000', '2015-06-17T00:00:00.000000000',\n",
       "       '2015-02-19T00:00:00.000000000', '2015-08-24T00:00:00.000000000',\n",
       "       '2015-06-22T00:00:00.000000000', '2015-12-25T00:00:00.000000000',\n",
       "       '2015-09-04T00:00:00.000000000', '2015-09-03T00:00:00.000000000',\n",
       "       '2015-01-17T00:00:00.000000000', '2015-11-26T00:00:00.000000000',\n",
       "       '2015-02-27T00:00:00.000000000', '2015-04-22T00:00:00.000000000',\n",
       "       '2015-10-17T00:00:00.000000000', '2015-06-04T00:00:00.000000000',\n",
       "       '2015-10-11T00:00:00.000000000', '2015-05-02T00:00:00.000000000',\n",
       "       '2015-08-21T00:00:00.000000000', '2015-07-24T00:00:00.000000000',\n",
       "       '2015-09-05T00:00:00.000000000', '2015-04-28T00:00:00.000000000',\n",
       "       '2015-02-20T00:00:00.000000000', '2015-11-14T00:00:00.000000000',\n",
       "       '2015-01-08T00:00:00.000000000', '2015-04-26T00:00:00.000000000',\n",
       "       '2015-07-01T00:00:00.000000000', '2015-09-13T00:00:00.000000000',\n",
       "       '2015-02-26T00:00:00.000000000', '2015-05-07T00:00:00.000000000',\n",
       "       '2015-07-10T00:00:00.000000000', '2015-10-23T00:00:00.000000000',\n",
       "       '2015-01-10T00:00:00.000000000', '2015-04-11T00:00:00.000000000',\n",
       "       '2015-12-07T00:00:00.000000000', '2015-09-24T00:00:00.000000000',\n",
       "       '2015-06-20T00:00:00.000000000', '2015-11-08T00:00:00.000000000',\n",
       "       '2015-11-22T00:00:00.000000000', '2015-10-07T00:00:00.000000000',\n",
       "       '2015-12-24T00:00:00.000000000', '2015-11-15T00:00:00.000000000',\n",
       "       '2015-04-12T00:00:00.000000000', '2015-07-04T00:00:00.000000000',\n",
       "       '2015-06-01T00:00:00.000000000', '2015-09-28T00:00:00.000000000',\n",
       "       '2015-11-29T00:00:00.000000000', '2015-03-07T00:00:00.000000000',\n",
       "       '2015-09-20T00:00:00.000000000', '2015-08-18T00:00:00.000000000',\n",
       "       '2015-12-14T00:00:00.000000000', '2015-10-13T00:00:00.000000000',\n",
       "       '2015-07-06T00:00:00.000000000', '2015-09-07T00:00:00.000000000',\n",
       "       '2015-03-27T00:00:00.000000000', '2015-11-16T00:00:00.000000000',\n",
       "       '2015-11-05T00:00:00.000000000', '2015-09-16T00:00:00.000000000',\n",
       "       '2015-01-28T00:00:00.000000000', '2015-12-01T00:00:00.000000000',\n",
       "       '2015-10-25T00:00:00.000000000', '2015-02-05T00:00:00.000000000',\n",
       "       '2015-05-22T00:00:00.000000000', '2015-05-30T00:00:00.000000000',\n",
       "       '2015-04-18T00:00:00.000000000', '2015-10-09T00:00:00.000000000',\n",
       "       '2015-12-30T00:00:00.000000000', '2015-05-27T00:00:00.000000000',\n",
       "       '2015-08-30T00:00:00.000000000', '2015-02-07T00:00:00.000000000',\n",
       "       '2015-01-05T00:00:00.000000000', '2015-04-30T00:00:00.000000000',\n",
       "       '2015-09-23T00:00:00.000000000', '2015-06-03T00:00:00.000000000',\n",
       "       '2015-02-08T00:00:00.000000000', '2015-01-25T00:00:00.000000000',\n",
       "       '2015-01-23T00:00:00.000000000', '2015-05-28T00:00:00.000000000',\n",
       "       '2015-11-02T00:00:00.000000000', '2015-12-28T00:00:00.000000000',\n",
       "       '2015-03-23T00:00:00.000000000', '2015-12-03T00:00:00.000000000',\n",
       "       '2015-05-16T00:00:00.000000000', '2015-05-24T00:00:00.000000000',\n",
       "       '2015-06-21T00:00:00.000000000', '2015-02-04T00:00:00.000000000',\n",
       "       '2015-12-27T00:00:00.000000000', '2015-09-17T00:00:00.000000000',\n",
       "       '2015-04-07T00:00:00.000000000', '2015-11-28T00:00:00.000000000',\n",
       "       '2015-07-26T00:00:00.000000000', '2015-04-01T00:00:00.000000000',\n",
       "       '2015-04-02T00:00:00.000000000', '2015-11-01T00:00:00.000000000',\n",
       "       '2015-10-02T00:00:00.000000000', '2015-05-08T00:00:00.000000000',\n",
       "       '2015-10-01T00:00:00.000000000', '2015-07-16T00:00:00.000000000',\n",
       "       '2015-01-24T00:00:00.000000000', '2015-05-19T00:00:00.000000000',\n",
       "       '2015-12-18T00:00:00.000000000', '2015-03-13T00:00:00.000000000',\n",
       "       '2015-11-12T00:00:00.000000000', '2015-08-04T00:00:00.000000000',\n",
       "       '2015-05-26T00:00:00.000000000', '2015-01-29T00:00:00.000000000',\n",
       "       '2015-04-19T00:00:00.000000000', '2015-06-07T00:00:00.000000000',\n",
       "       '2015-11-23T00:00:00.000000000', '2015-01-03T00:00:00.000000000',\n",
       "       '2015-10-15T00:00:00.000000000', '2015-03-01T00:00:00.000000000',\n",
       "       '2015-04-24T00:00:00.000000000', '2015-04-29T00:00:00.000000000',\n",
       "       '2015-03-21T00:00:00.000000000', '2015-03-18T00:00:00.000000000',\n",
       "       '2015-12-10T00:00:00.000000000', '2015-06-02T00:00:00.000000000',\n",
       "       '2015-12-21T00:00:00.000000000', '2015-12-08T00:00:00.000000000',\n",
       "       '2015-09-27T00:00:00.000000000', '2015-03-17T00:00:00.000000000',\n",
       "       '2015-03-15T00:00:00.000000000', '2015-04-27T00:00:00.000000000',\n",
       "       '2015-08-13T00:00:00.000000000', '2015-03-03T00:00:00.000000000',\n",
       "       '2015-07-08T00:00:00.000000000', '2015-02-16T00:00:00.000000000',\n",
       "       '2015-03-06T00:00:00.000000000', '2015-03-25T00:00:00.000000000',\n",
       "       '2015-06-15T00:00:00.000000000', '2015-02-23T00:00:00.000000000',\n",
       "       '2015-02-12T00:00:00.000000000', '2015-05-12T00:00:00.000000000',\n",
       "       '2015-02-11T00:00:00.000000000', '2015-11-24T00:00:00.000000000',\n",
       "       '2015-01-11T00:00:00.000000000', '2015-11-17T00:00:00.000000000',\n",
       "       '2015-03-12T00:00:00.000000000', '2015-05-11T00:00:00.000000000',\n",
       "       '2015-10-14T00:00:00.000000000', '2015-10-24T00:00:00.000000000',\n",
       "       '2015-09-11T00:00:00.000000000', '2015-08-31T00:00:00.000000000',\n",
       "       '2015-12-19T00:00:00.000000000', '2015-12-15T00:00:00.000000000',\n",
       "       '2015-01-04T00:00:00.000000000', '2015-11-21T00:00:00.000000000',\n",
       "       '2015-10-18T00:00:00.000000000', '2015-05-25T00:00:00.000000000',\n",
       "       '2015-09-22T00:00:00.000000000', '2015-08-29T00:00:00.000000000',\n",
       "       '2015-08-28T00:00:00.000000000', '2015-10-21T00:00:00.000000000',\n",
       "       '2015-05-29T00:00:00.000000000', '2015-08-26T00:00:00.000000000',\n",
       "       '2015-06-28T00:00:00.000000000', '2015-11-27T00:00:00.000000000',\n",
       "       '2015-08-14T00:00:00.000000000', '2015-06-29T00:00:00.000000000',\n",
       "       '2015-01-15T00:00:00.000000000', '2015-02-17T00:00:00.000000000',\n",
       "       '2015-05-20T00:00:00.000000000', '2015-08-11T00:00:00.000000000',\n",
       "       '2015-03-19T00:00:00.000000000', '2015-10-28T00:00:00.000000000',\n",
       "       '2015-08-16T00:00:00.000000000', '2015-11-13T00:00:00.000000000',\n",
       "       '2015-07-13T00:00:00.000000000', '2015-07-20T00:00:00.000000000',\n",
       "       '2015-10-05T00:00:00.000000000', '2015-10-29T00:00:00.000000000',\n",
       "       '2015-12-16T00:00:00.000000000', '2015-01-30T00:00:00.000000000',\n",
       "       '2015-03-22T00:00:00.000000000', '2015-09-10T00:00:00.000000000',\n",
       "       '2015-03-02T00:00:00.000000000', '2015-10-19T00:00:00.000000000',\n",
       "       '2015-10-27T00:00:00.000000000', '2015-02-10T00:00:00.000000000',\n",
       "       '2015-02-28T00:00:00.000000000', '2015-07-27T00:00:00.000000000',\n",
       "       '2015-09-08T00:00:00.000000000', '2015-09-09T00:00:00.000000000',\n",
       "       '2015-12-09T00:00:00.000000000', '2015-06-12T00:00:00.000000000',\n",
       "       '2015-03-31T00:00:00.000000000', '2015-01-01T00:00:00.000000000',\n",
       "       '2015-01-18T00:00:00.000000000', '2015-02-06T00:00:00.000000000',\n",
       "       '2015-07-31T00:00:00.000000000', '2015-04-04T00:00:00.000000000',\n",
       "       '2015-10-31T00:00:00.000000000', '2015-07-12T00:00:00.000000000',\n",
       "       '2015-07-29T00:00:00.000000000', '2015-09-25T00:00:00.000000000',\n",
       "       '2015-07-14T00:00:00.000000000', '2015-08-01T00:00:00.000000000',\n",
       "       '2015-02-01T00:00:00.000000000', '2015-07-30T00:00:00.000000000',\n",
       "       '2015-12-26T00:00:00.000000000', '2015-05-13T00:00:00.000000000',\n",
       "       '2015-01-12T00:00:00.000000000', '2015-03-28T00:00:00.000000000',\n",
       "       '2015-11-20T00:00:00.000000000', '2015-01-22T00:00:00.000000000',\n",
       "       '2015-11-07T00:00:00.000000000', '2015-07-15T00:00:00.000000000',\n",
       "       '2015-03-24T00:00:00.000000000', '2015-06-13T00:00:00.000000000',\n",
       "       '2015-05-10T00:00:00.000000000', '2015-08-20T00:00:00.000000000',\n",
       "       '2015-12-17T00:00:00.000000000', '2015-06-05T00:00:00.000000000',\n",
       "       '2015-11-25T00:00:00.000000000', '2015-07-09T00:00:00.000000000',\n",
       "       '2015-02-02T00:00:00.000000000', '2015-09-14T00:00:00.000000000',\n",
       "       '2015-04-21T00:00:00.000000000', '2015-11-18T00:00:00.000000000',\n",
       "       '2015-09-12T00:00:00.000000000', '2015-09-02T00:00:00.000000000',\n",
       "       '2015-04-16T00:00:00.000000000', '2015-03-29T00:00:00.000000000',\n",
       "       '2015-10-04T00:00:00.000000000', '2015-01-19T00:00:00.000000000',\n",
       "       '2015-06-08T00:00:00.000000000', '2015-04-06T00:00:00.000000000',\n",
       "       '2015-01-09T00:00:00.000000000', '2015-05-04T00:00:00.000000000',\n",
       "       '2015-06-26T00:00:00.000000000', '2015-04-23T00:00:00.000000000',\n",
       "       '2014-01-10T00:00:00.000000000', '2014-12-16T00:00:00.000000000',\n",
       "       '2014-10-10T00:00:00.000000000', '2014-09-12T00:00:00.000000000',\n",
       "       '2014-11-15T00:00:00.000000000', '2014-10-16T00:00:00.000000000',\n",
       "       '2014-08-14T00:00:00.000000000', '2014-08-30T00:00:00.000000000',\n",
       "       '2014-06-10T00:00:00.000000000', '2014-11-06T00:00:00.000000000',\n",
       "       '2014-05-28T00:00:00.000000000', '2014-02-16T00:00:00.000000000',\n",
       "       '2014-08-29T00:00:00.000000000', '2014-04-14T00:00:00.000000000',\n",
       "       '2014-06-25T00:00:00.000000000', '2014-02-14T00:00:00.000000000',\n",
       "       '2014-06-20T00:00:00.000000000', '2014-07-22T00:00:00.000000000',\n",
       "       '2014-03-02T00:00:00.000000000', '2014-04-24T00:00:00.000000000',\n",
       "       '2014-01-28T00:00:00.000000000', '2014-08-21T00:00:00.000000000',\n",
       "       '2014-08-01T00:00:00.000000000', '2014-02-27T00:00:00.000000000',\n",
       "       '2014-04-10T00:00:00.000000000', '2014-02-25T00:00:00.000000000',\n",
       "       '2014-05-13T00:00:00.000000000', '2014-01-31T00:00:00.000000000',\n",
       "       '2014-03-29T00:00:00.000000000', '2014-05-05T00:00:00.000000000',\n",
       "       '2014-04-03T00:00:00.000000000', '2014-08-10T00:00:00.000000000',\n",
       "       '2014-10-12T00:00:00.000000000', '2014-09-18T00:00:00.000000000',\n",
       "       '2014-08-17T00:00:00.000000000', '2014-07-29T00:00:00.000000000',\n",
       "       '2014-05-10T00:00:00.000000000', '2014-07-17T00:00:00.000000000',\n",
       "       '2014-02-09T00:00:00.000000000', '2014-01-23T00:00:00.000000000',\n",
       "       '2014-01-19T00:00:00.000000000', '2014-04-21T00:00:00.000000000',\n",
       "       '2014-05-06T00:00:00.000000000', '2014-06-01T00:00:00.000000000',\n",
       "       '2014-07-28T00:00:00.000000000', '2014-10-21T00:00:00.000000000',\n",
       "       '2014-07-31T00:00:00.000000000', '2014-06-13T00:00:00.000000000',\n",
       "       '2014-09-30T00:00:00.000000000', '2014-03-14T00:00:00.000000000',\n",
       "       '2014-07-11T00:00:00.000000000', '2014-02-24T00:00:00.000000000',\n",
       "       '2014-02-26T00:00:00.000000000', '2014-07-27T00:00:00.000000000',\n",
       "       '2014-06-30T00:00:00.000000000', '2014-08-23T00:00:00.000000000',\n",
       "       '2014-04-15T00:00:00.000000000', '2014-07-18T00:00:00.000000000',\n",
       "       '2014-12-04T00:00:00.000000000', '2014-05-09T00:00:00.000000000',\n",
       "       '2014-04-22T00:00:00.000000000', '2014-12-27T00:00:00.000000000',\n",
       "       '2014-02-23T00:00:00.000000000', '2014-07-07T00:00:00.000000000',\n",
       "       '2014-12-07T00:00:00.000000000', '2014-11-27T00:00:00.000000000',\n",
       "       '2014-02-01T00:00:00.000000000', '2014-07-01T00:00:00.000000000',\n",
       "       '2014-08-31T00:00:00.000000000', '2014-03-10T00:00:00.000000000',\n",
       "       '2014-10-27T00:00:00.000000000', '2014-10-20T00:00:00.000000000',\n",
       "       '2014-04-05T00:00:00.000000000', '2014-09-21T00:00:00.000000000',\n",
       "       '2014-01-22T00:00:00.000000000', '2014-11-10T00:00:00.000000000',\n",
       "       '2014-04-12T00:00:00.000000000', '2014-11-09T00:00:00.000000000',\n",
       "       '2014-08-07T00:00:00.000000000', '2014-05-01T00:00:00.000000000',\n",
       "       '2014-08-09T00:00:00.000000000', '2014-05-24T00:00:00.000000000',\n",
       "       '2014-04-06T00:00:00.000000000', '2014-03-31T00:00:00.000000000',\n",
       "       '2014-06-07T00:00:00.000000000', '2014-02-10T00:00:00.000000000',\n",
       "       '2014-01-03T00:00:00.000000000', '2014-12-15T00:00:00.000000000',\n",
       "       '2014-03-25T00:00:00.000000000', '2014-04-13T00:00:00.000000000',\n",
       "       '2014-06-15T00:00:00.000000000', '2014-08-28T00:00:00.000000000',\n",
       "       '2014-08-22T00:00:00.000000000', '2014-01-21T00:00:00.000000000',\n",
       "       '2014-12-06T00:00:00.000000000', '2014-08-16T00:00:00.000000000',\n",
       "       '2014-10-13T00:00:00.000000000', '2014-05-14T00:00:00.000000000',\n",
       "       '2014-06-05T00:00:00.000000000', '2014-03-06T00:00:00.000000000',\n",
       "       '2014-02-13T00:00:00.000000000', '2014-05-18T00:00:00.000000000',\n",
       "       '2014-11-20T00:00:00.000000000', '2014-01-29T00:00:00.000000000',\n",
       "       '2014-07-26T00:00:00.000000000', '2014-04-18T00:00:00.000000000',\n",
       "       '2014-07-09T00:00:00.000000000', '2014-11-29T00:00:00.000000000',\n",
       "       '2014-11-12T00:00:00.000000000', '2014-09-08T00:00:00.000000000',\n",
       "       '2014-12-10T00:00:00.000000000', '2014-07-30T00:00:00.000000000',\n",
       "       '2014-04-02T00:00:00.000000000', '2014-02-20T00:00:00.000000000',\n",
       "       '2014-01-02T00:00:00.000000000', '2014-03-04T00:00:00.000000000',\n",
       "       '2014-02-03T00:00:00.000000000', '2014-08-26T00:00:00.000000000',\n",
       "       '2014-04-28T00:00:00.000000000', '2014-12-20T00:00:00.000000000',\n",
       "       '2014-04-09T00:00:00.000000000', '2014-11-05T00:00:00.000000000',\n",
       "       '2014-03-21T00:00:00.000000000', '2014-01-27T00:00:00.000000000',\n",
       "       '2014-10-30T00:00:00.000000000', '2014-03-19T00:00:00.000000000',\n",
       "       '2014-09-20T00:00:00.000000000', '2014-03-18T00:00:00.000000000',\n",
       "       '2014-05-04T00:00:00.000000000', '2014-05-25T00:00:00.000000000',\n",
       "       '2014-07-15T00:00:00.000000000', '2014-10-01T00:00:00.000000000',\n",
       "       '2014-03-09T00:00:00.000000000', '2014-05-30T00:00:00.000000000',\n",
       "       '2014-06-27T00:00:00.000000000', '2014-05-23T00:00:00.000000000',\n",
       "       '2014-11-08T00:00:00.000000000', '2014-04-04T00:00:00.000000000',\n",
       "       '2014-01-14T00:00:00.000000000', '2014-09-04T00:00:00.000000000',\n",
       "       '2014-03-30T00:00:00.000000000', '2014-03-27T00:00:00.000000000',\n",
       "       '2014-09-28T00:00:00.000000000', '2014-06-08T00:00:00.000000000',\n",
       "       '2014-12-17T00:00:00.000000000', '2014-11-14T00:00:00.000000000',\n",
       "       '2014-10-28T00:00:00.000000000', '2014-10-11T00:00:00.000000000',\n",
       "       '2014-02-12T00:00:00.000000000', '2014-07-03T00:00:00.000000000',\n",
       "       '2014-02-06T00:00:00.000000000', '2014-02-04T00:00:00.000000000',\n",
       "       '2014-09-05T00:00:00.000000000', '2014-11-21T00:00:00.000000000',\n",
       "       '2014-09-06T00:00:00.000000000', '2014-10-05T00:00:00.000000000',\n",
       "       '2014-08-24T00:00:00.000000000', '2014-08-15T00:00:00.000000000',\n",
       "       '2014-06-06T00:00:00.000000000', '2014-03-07T00:00:00.000000000',\n",
       "       '2014-03-15T00:00:00.000000000', '2014-12-02T00:00:00.000000000',\n",
       "       '2014-03-08T00:00:00.000000000', '2014-02-11T00:00:00.000000000',\n",
       "       '2014-12-29T00:00:00.000000000', '2014-12-23T00:00:00.000000000',\n",
       "       '2014-06-16T00:00:00.000000000', '2014-01-13T00:00:00.000000000',\n",
       "       '2014-12-05T00:00:00.000000000', '2014-08-06T00:00:00.000000000',\n",
       "       '2014-03-05T00:00:00.000000000', '2014-05-29T00:00:00.000000000',\n",
       "       '2014-01-06T00:00:00.000000000', '2014-02-08T00:00:00.000000000',\n",
       "       '2014-07-14T00:00:00.000000000', '2014-03-23T00:00:00.000000000',\n",
       "       '2014-03-16T00:00:00.000000000', '2014-02-18T00:00:00.000000000',\n",
       "       '2014-08-20T00:00:00.000000000', '2014-12-25T00:00:00.000000000',\n",
       "       '2014-02-05T00:00:00.000000000', '2014-12-18T00:00:00.000000000',\n",
       "       '2014-12-13T00:00:00.000000000', '2014-06-02T00:00:00.000000000',\n",
       "       '2014-05-26T00:00:00.000000000', '2014-12-14T00:00:00.000000000',\n",
       "       '2014-08-05T00:00:00.000000000', '2014-09-16T00:00:00.000000000',\n",
       "       '2014-05-19T00:00:00.000000000', '2014-04-08T00:00:00.000000000',\n",
       "       '2014-03-13T00:00:00.000000000', '2014-12-26T00:00:00.000000000',\n",
       "       '2014-10-17T00:00:00.000000000', '2014-03-20T00:00:00.000000000',\n",
       "       '2014-10-19T00:00:00.000000000', '2014-02-17T00:00:00.000000000',\n",
       "       '2014-12-03T00:00:00.000000000', '2014-10-31T00:00:00.000000000',\n",
       "       '2014-05-02T00:00:00.000000000', '2014-04-17T00:00:00.000000000',\n",
       "       '2014-09-24T00:00:00.000000000', '2014-04-29T00:00:00.000000000',\n",
       "       '2014-01-18T00:00:00.000000000', '2014-06-21T00:00:00.000000000',\n",
       "       '2014-11-28T00:00:00.000000000', '2014-03-17T00:00:00.000000000',\n",
       "       '2014-07-23T00:00:00.000000000', '2014-03-03T00:00:00.000000000',\n",
       "       '2014-10-24T00:00:00.000000000', '2014-03-01T00:00:00.000000000',\n",
       "       '2014-07-08T00:00:00.000000000', '2014-10-14T00:00:00.000000000',\n",
       "       '2014-06-03T00:00:00.000000000', '2014-06-11T00:00:00.000000000',\n",
       "       '2014-01-08T00:00:00.000000000', '2014-05-20T00:00:00.000000000',\n",
       "       '2014-10-26T00:00:00.000000000', '2014-08-02T00:00:00.000000000',\n",
       "       '2014-04-11T00:00:00.000000000', '2014-06-14T00:00:00.000000000',\n",
       "       '2014-10-04T00:00:00.000000000', '2014-01-12T00:00:00.000000000',\n",
       "       '2014-06-12T00:00:00.000000000', '2014-09-26T00:00:00.000000000',\n",
       "       '2014-08-04T00:00:00.000000000', '2014-10-25T00:00:00.000000000',\n",
       "       '2014-08-25T00:00:00.000000000', '2014-12-19T00:00:00.000000000',\n",
       "       '2014-01-26T00:00:00.000000000', '2014-09-27T00:00:00.000000000',\n",
       "       '2014-01-07T00:00:00.000000000', '2014-10-03T00:00:00.000000000',\n",
       "       '2014-02-21T00:00:00.000000000', '2014-11-26T00:00:00.000000000',\n",
       "       '2014-12-28T00:00:00.000000000', '2014-09-17T00:00:00.000000000',\n",
       "       '2014-03-22T00:00:00.000000000', '2014-04-07T00:00:00.000000000',\n",
       "       '2014-07-20T00:00:00.000000000', '2014-12-09T00:00:00.000000000',\n",
       "       '2014-05-21T00:00:00.000000000', '2014-01-20T00:00:00.000000000',\n",
       "       '2014-09-29T00:00:00.000000000', '2014-01-30T00:00:00.000000000',\n",
       "       '2014-09-11T00:00:00.000000000', '2014-01-25T00:00:00.000000000',\n",
       "       '2014-07-12T00:00:00.000000000', '2014-09-01T00:00:00.000000000',\n",
       "       '2014-07-25T00:00:00.000000000', '2014-05-08T00:00:00.000000000',\n",
       "       '2014-07-13T00:00:00.000000000', '2014-06-26T00:00:00.000000000',\n",
       "       '2014-01-01T00:00:00.000000000', '2014-11-18T00:00:00.000000000',\n",
       "       '2014-06-09T00:00:00.000000000', '2014-05-07T00:00:00.000000000',\n",
       "       '2014-08-12T00:00:00.000000000', '2014-09-25T00:00:00.000000000',\n",
       "       '2014-07-05T00:00:00.000000000', '2014-12-01T00:00:00.000000000',\n",
       "       '2014-04-16T00:00:00.000000000', '2014-11-03T00:00:00.000000000',\n",
       "       '2014-09-07T00:00:00.000000000', '2014-11-07T00:00:00.000000000',\n",
       "       '2014-11-22T00:00:00.000000000', '2014-07-06T00:00:00.000000000',\n",
       "       '2014-11-04T00:00:00.000000000', '2014-10-23T00:00:00.000000000',\n",
       "       '2014-05-03T00:00:00.000000000', '2014-01-24T00:00:00.000000000',\n",
       "       '2014-11-01T00:00:00.000000000', '2014-06-18T00:00:00.000000000',\n",
       "       '2014-02-02T00:00:00.000000000', '2014-10-22T00:00:00.000000000',\n",
       "       '2014-04-20T00:00:00.000000000', '2014-02-22T00:00:00.000000000',\n",
       "       '2014-04-19T00:00:00.000000000', '2014-12-24T00:00:00.000000000',\n",
       "       '2014-08-19T00:00:00.000000000', '2014-10-29T00:00:00.000000000',\n",
       "       '2014-11-19T00:00:00.000000000', '2014-04-30T00:00:00.000000000',\n",
       "       '2014-09-13T00:00:00.000000000', '2014-08-08T00:00:00.000000000',\n",
       "       '2014-09-09T00:00:00.000000000', '2014-01-17T00:00:00.000000000',\n",
       "       '2014-12-30T00:00:00.000000000', '2014-05-16T00:00:00.000000000',\n",
       "       '2014-02-28T00:00:00.000000000', '2014-05-11T00:00:00.000000000',\n",
       "       '2014-01-15T00:00:00.000000000', '2014-02-19T00:00:00.000000000',\n",
       "       '2014-05-27T00:00:00.000000000', '2014-09-10T00:00:00.000000000',\n",
       "       '2014-07-24T00:00:00.000000000', '2014-06-23T00:00:00.000000000',\n",
       "       '2014-06-22T00:00:00.000000000', '2014-03-28T00:00:00.000000000',\n",
       "       '2014-07-04T00:00:00.000000000', '2014-09-23T00:00:00.000000000',\n",
       "       '2014-12-22T00:00:00.000000000', '2014-10-06T00:00:00.000000000',\n",
       "       '2014-08-13T00:00:00.000000000', '2014-03-24T00:00:00.000000000',\n",
       "       '2014-11-16T00:00:00.000000000', '2014-06-19T00:00:00.000000000',\n",
       "       '2014-06-17T00:00:00.000000000', '2014-08-11T00:00:00.000000000',\n",
       "       '2014-01-16T00:00:00.000000000', '2014-09-22T00:00:00.000000000',\n",
       "       '2014-08-03T00:00:00.000000000', '2014-10-07T00:00:00.000000000',\n",
       "       '2014-05-17T00:00:00.000000000', '2014-07-02T00:00:00.000000000',\n",
       "       '2014-11-23T00:00:00.000000000', '2014-04-01T00:00:00.000000000',\n",
       "       '2014-06-24T00:00:00.000000000', '2014-10-08T00:00:00.000000000',\n",
       "       '2014-11-13T00:00:00.000000000', '2014-10-09T00:00:00.000000000',\n",
       "       '2014-04-25T00:00:00.000000000', '2014-09-02T00:00:00.000000000',\n",
       "       '2014-11-24T00:00:00.000000000', '2014-01-04T00:00:00.000000000',\n",
       "       '2014-09-19T00:00:00.000000000', '2014-05-12T00:00:00.000000000',\n",
       "       '2014-01-11T00:00:00.000000000', '2014-06-04T00:00:00.000000000',\n",
       "       '2014-07-21T00:00:00.000000000', '2014-10-15T00:00:00.000000000',\n",
       "       '2014-04-26T00:00:00.000000000', '2014-01-05T00:00:00.000000000',\n",
       "       '2014-03-26T00:00:00.000000000', '2014-08-27T00:00:00.000000000',\n",
       "       '2014-07-10T00:00:00.000000000', '2014-11-17T00:00:00.000000000',\n",
       "       '2014-02-15T00:00:00.000000000', '2014-10-18T00:00:00.000000000',\n",
       "       '2014-01-09T00:00:00.000000000', '2014-02-07T00:00:00.000000000',\n",
       "       '2014-09-14T00:00:00.000000000', '2014-12-08T00:00:00.000000000',\n",
       "       '2014-05-31T00:00:00.000000000', '2014-11-30T00:00:00.000000000',\n",
       "       '2014-04-27T00:00:00.000000000', '2014-12-21T00:00:00.000000000',\n",
       "       '2014-05-22T00:00:00.000000000', '2014-12-12T00:00:00.000000000',\n",
       "       '2014-03-12T00:00:00.000000000', '2014-09-03T00:00:00.000000000',\n",
       "       '2014-07-16T00:00:00.000000000', '2014-04-23T00:00:00.000000000',\n",
       "       '2014-11-11T00:00:00.000000000', '2014-05-15T00:00:00.000000000',\n",
       "       '2014-06-28T00:00:00.000000000', '2014-08-18T00:00:00.000000000',\n",
       "       '2014-11-25T00:00:00.000000000', '2014-03-11T00:00:00.000000000',\n",
       "       '2014-07-19T00:00:00.000000000', '2014-11-02T00:00:00.000000000',\n",
       "       '2014-09-15T00:00:00.000000000', '2014-10-02T00:00:00.000000000',\n",
       "       '2014-06-29T00:00:00.000000000', '2014-12-11T00:00:00.000000000'],\n",
       "      dtype='datetime64[ns]')"
      ]
     },
     "execution_count": 15,
     "metadata": {},
     "output_type": "execute_result"
    }
   ],
   "source": [
    "data['Date'].unique()"
   ]
  },
  {
   "cell_type": "code",
   "execution_count": 16,
   "metadata": {
    "id": "wYeP01Ks7E6N"
   },
   "outputs": [],
   "source": [
    "#exporting the cleaned data set\n",
    "\n",
    "data.to_csv(\"cleaned_data.csv\")"
   ]
  },
  {
   "cell_type": "markdown",
   "metadata": {},
   "source": [
    "## Performing some data visualizations"
   ]
  },
  {
   "cell_type": "code",
   "execution_count": 17,
   "metadata": {
    "executionInfo": {
     "elapsed": 6,
     "status": "ok",
     "timestamp": 1701166826768,
     "user": {
      "displayName": "mary kama",
      "userId": "01205540765635897452"
     },
     "user_tz": -60
    },
    "id": "Yi-jqoi1aBc2"
   },
   "outputs": [],
   "source": [
    "# item description and member number would be plotted against each other; group by function would be used to find the highest(top 10)\n",
    "# Grouping of the two columns ['Item_Description','Member_Number']\n",
    "items = data.groupby('Item_Description')['Member_Number'].size().sort_values(ascending = False).head(10)"
   ]
  },
  {
   "cell_type": "code",
   "execution_count": 18,
   "metadata": {
    "colab": {
     "base_uri": "https://localhost:8080/"
    },
    "executionInfo": {
     "elapsed": 12,
     "status": "ok",
     "timestamp": 1701166829816,
     "user": {
      "displayName": "mary kama",
      "userId": "01205540765635897452"
     },
     "user_tz": -60
    },
    "id": "S6gREWu1a_5g",
    "outputId": "98871c62-9a89-4e07-fd19-5407c3ed8066"
   },
   "outputs": [
    {
     "data": {
      "text/plain": [
       "Item_Description\n",
       "whole milk          2502\n",
       "other vegetables    1898\n",
       "rolls/buns          1716\n",
       "soda                1514\n",
       "yogurt              1334\n",
       "root vegetables     1071\n",
       "tropical fruit      1032\n",
       "bottled water        933\n",
       "sausage              924\n",
       "citrus fruit         812\n",
       "Name: Member_Number, dtype: int64"
      ]
     },
     "execution_count": 18,
     "metadata": {},
     "output_type": "execute_result"
    }
   ],
   "source": [
    "items"
   ]
  },
  {
   "cell_type": "code",
   "execution_count": 19,
   "metadata": {
    "colab": {
     "base_uri": "https://localhost:8080/",
     "height": 564
    },
    "executionInfo": {
     "elapsed": 1540,
     "status": "ok",
     "timestamp": 1701166840259,
     "user": {
      "displayName": "mary kama",
      "userId": "01205540765635897452"
     },
     "user_tz": -60
    },
    "id": "X9G1EmG8bmV5",
    "outputId": "f07c4cf3-08a3-44f3-c2b8-4b020602d282"
   },
   "outputs": [
    {
     "data": {
      "image/png": "[encoded data removed]",
      "text/plain": [
       "<Figure size 576x432 with 1 Axes>"
      ]
     },
     "metadata": {
      "needs_background": "light"
     },
     "output_type": "display_data"
    }
   ],
   "source": [
    "plt.figure(figsize=(12,6))\n",
    "items.plot(kind ='barh', xlabel = 'Name of Items', ylabel = 'Quantity of Items Sold', title = 'The Top 10 Items Sold', figsize =(8,6));"
   ]
  },
  {
   "cell_type": "markdown",
   "metadata": {},
   "source": [
    "Observation\n",
    "From the above chart, it was seen that whole milk is the most purchased of the product."
   ]
  },
  {
   "cell_type": "code",
   "execution_count": 20,
   "metadata": {
    "id": "0meC35y_x8DH"
   },
   "outputs": [],
   "source": [
    "# setting Member_Number as index\n",
    "data.to_csv('cleaned_data.csv')\n"
   ]
  },
  {
   "cell_type": "code",
   "execution_count": 21,
   "metadata": {},
   "outputs": [
    {
     "data": {
      "text/html": [
       "<div>\n",
       "<style scoped>\n",
       "    .dataframe tbody tr th:only-of-type {\n",
       "        vertical-align: middle;\n",
       "    }\n",
       "\n",
       "    .dataframe tbody tr th {\n",
       "        vertical-align: top;\n",
       "    }\n",
       "\n",
       "    .dataframe thead th {\n",
       "        text-align: right;\n",
       "    }\n",
       "</style>\n",
       "<table border=\"1\" class=\"dataframe\">\n",
       "  <thead>\n",
       "    <tr style=\"text-align: right;\">\n",
       "      <th></th>\n",
       "      <th>Member_Number</th>\n",
       "      <th>Item_Description</th>\n",
       "    </tr>\n",
       "    <tr>\n",
       "      <th>Date</th>\n",
       "      <th></th>\n",
       "      <th></th>\n",
       "    </tr>\n",
       "  </thead>\n",
       "  <tbody>\n",
       "    <tr>\n",
       "      <th>2015-07-21</th>\n",
       "      <td>1808</td>\n",
       "      <td>tropical fruit</td>\n",
       "    </tr>\n",
       "    <tr>\n",
       "      <th>2015-05-01</th>\n",
       "      <td>2552</td>\n",
       "      <td>whole milk</td>\n",
       "    </tr>\n",
       "    <tr>\n",
       "      <th>2015-09-19</th>\n",
       "      <td>2300</td>\n",
       "      <td>pip fruit</td>\n",
       "    </tr>\n",
       "    <tr>\n",
       "      <th>2015-12-12</th>\n",
       "      <td>1187</td>\n",
       "      <td>other vegetables</td>\n",
       "    </tr>\n",
       "    <tr>\n",
       "      <th>2015-01-02</th>\n",
       "      <td>3037</td>\n",
       "      <td>whole milk</td>\n",
       "    </tr>\n",
       "    <tr>\n",
       "      <th>...</th>\n",
       "      <td>...</td>\n",
       "      <td>...</td>\n",
       "    </tr>\n",
       "    <tr>\n",
       "      <th>2014-08-10</th>\n",
       "      <td>4471</td>\n",
       "      <td>sliced cheese</td>\n",
       "    </tr>\n",
       "    <tr>\n",
       "      <th>2014-02-23</th>\n",
       "      <td>2022</td>\n",
       "      <td>candy</td>\n",
       "    </tr>\n",
       "    <tr>\n",
       "      <th>2014-04-16</th>\n",
       "      <td>1097</td>\n",
       "      <td>cake bar</td>\n",
       "    </tr>\n",
       "    <tr>\n",
       "      <th>2014-03-12</th>\n",
       "      <td>1510</td>\n",
       "      <td>fruit/vegetable juice</td>\n",
       "    </tr>\n",
       "    <tr>\n",
       "      <th>2014-12-26</th>\n",
       "      <td>1521</td>\n",
       "      <td>cat food</td>\n",
       "    </tr>\n",
       "  </tbody>\n",
       "</table>\n",
       "<p>38765 rows × 2 columns</p>\n",
       "</div>"
      ],
      "text/plain": [
       "            Member_Number       Item_Description\n",
       "Date                                            \n",
       "2015-07-21           1808         tropical fruit\n",
       "2015-05-01           2552             whole milk\n",
       "2015-09-19           2300              pip fruit\n",
       "2015-12-12           1187       other vegetables\n",
       "2015-01-02           3037             whole milk\n",
       "...                   ...                    ...\n",
       "2014-08-10           4471          sliced cheese\n",
       "2014-02-23           2022                  candy\n",
       "2014-04-16           1097               cake bar\n",
       "2014-03-12           1510  fruit/vegetable juice\n",
       "2014-12-26           1521               cat food\n",
       "\n",
       "[38765 rows x 2 columns]"
      ]
     },
     "execution_count": 21,
     "metadata": {},
     "output_type": "execute_result"
    }
   ],
   "source": [
    "#setting the 'Date' column as the index of the dataframe. It makes plotting easy.\n",
    "\n",
    "data_date = data.set_index(['Date']) ## Setting date as index for plotting purpose\n",
    "\n",
    "data_date"
   ]
  },
  {
   "cell_type": "code",
   "execution_count": 35,
   "metadata": {},
   "outputs": [
    {
     "data": {
      "image/png": "[encoded data removed]",
      "text/plain": [
       "<Figure size 1440x576 with 1 Axes>"
      ]
     },
     "metadata": {
      "needs_background": "light"
     },
     "output_type": "display_data"
    }
   ],
   "source": [
    "#visualizing the daily prices of the company share.\n",
    "data_date.resample('M')[\"Item_Description\"].count().plot(figsize=(20,8), grid =True)\n",
    "plt.title(\"Historical stock sold by month\", fontsize =20)\n",
    "\n",
    "#setting the x and y axis label\n",
    "plt.ylabel('Number of Items Sold', fontsize =14)\n",
    "plt.xlabel('Date', fontsize=14)\n",
    "\n",
    "#to save graph\n",
    "#fig.savefig('stock.png')\n",
    "plt.show()\n",
    "\n",
    "\n"
   ]
  },
  {
   "cell_type": "markdown",
   "metadata": {},
   "source": [
    "##### Observation:\n",
    "The resample keyword was used to graph the visualization in timely order as to extract meaningful insights from the data \n",
    "for a better understanding of the data that is being visualized.\n",
    "From the graph above, in the months of September, 2014, the company experineced a drastic drop in sales but in between August\n",
    "and September 2015, there was a rapid increase in sales.That is to say sales was at the climax. \n",
    "It was also observed from the graph that the month of October always come with a sudden decrease in sale and it was seen in 2014 and 2015."
   ]
  },
  {
   "cell_type": "code",
   "execution_count": 23,
   "metadata": {},
   "outputs": [
    {
     "data": {
      "text/html": [
       "<div>\n",
       "<style scoped>\n",
       "    .dataframe tbody tr th:only-of-type {\n",
       "        vertical-align: middle;\n",
       "    }\n",
       "\n",
       "    .dataframe tbody tr th {\n",
       "        vertical-align: top;\n",
       "    }\n",
       "\n",
       "    .dataframe thead th {\n",
       "        text-align: right;\n",
       "    }\n",
       "</style>\n",
       "<table border=\"1\" class=\"dataframe\">\n",
       "  <thead>\n",
       "    <tr style=\"text-align: right;\">\n",
       "      <th></th>\n",
       "      <th>Date</th>\n",
       "      <th>Item_Description</th>\n",
       "    </tr>\n",
       "    <tr>\n",
       "      <th>Member_Number</th>\n",
       "      <th></th>\n",
       "      <th></th>\n",
       "    </tr>\n",
       "  </thead>\n",
       "  <tbody>\n",
       "    <tr>\n",
       "      <th>1808</th>\n",
       "      <td>2015-07-21</td>\n",
       "      <td>tropical fruit</td>\n",
       "    </tr>\n",
       "    <tr>\n",
       "      <th>2552</th>\n",
       "      <td>2015-05-01</td>\n",
       "      <td>whole milk</td>\n",
       "    </tr>\n",
       "    <tr>\n",
       "      <th>2300</th>\n",
       "      <td>2015-09-19</td>\n",
       "      <td>pip fruit</td>\n",
       "    </tr>\n",
       "    <tr>\n",
       "      <th>1187</th>\n",
       "      <td>2015-12-12</td>\n",
       "      <td>other vegetables</td>\n",
       "    </tr>\n",
       "    <tr>\n",
       "      <th>3037</th>\n",
       "      <td>2015-01-02</td>\n",
       "      <td>whole milk</td>\n",
       "    </tr>\n",
       "    <tr>\n",
       "      <th>...</th>\n",
       "      <td>...</td>\n",
       "      <td>...</td>\n",
       "    </tr>\n",
       "    <tr>\n",
       "      <th>4471</th>\n",
       "      <td>2014-08-10</td>\n",
       "      <td>sliced cheese</td>\n",
       "    </tr>\n",
       "    <tr>\n",
       "      <th>2022</th>\n",
       "      <td>2014-02-23</td>\n",
       "      <td>candy</td>\n",
       "    </tr>\n",
       "    <tr>\n",
       "      <th>1097</th>\n",
       "      <td>2014-04-16</td>\n",
       "      <td>cake bar</td>\n",
       "    </tr>\n",
       "    <tr>\n",
       "      <th>1510</th>\n",
       "      <td>2014-03-12</td>\n",
       "      <td>fruit/vegetable juice</td>\n",
       "    </tr>\n",
       "    <tr>\n",
       "      <th>1521</th>\n",
       "      <td>2014-12-26</td>\n",
       "      <td>cat food</td>\n",
       "    </tr>\n",
       "  </tbody>\n",
       "</table>\n",
       "<p>38765 rows × 2 columns</p>\n",
       "</div>"
      ],
      "text/plain": [
       "                    Date       Item_Description\n",
       "Member_Number                                  \n",
       "1808          2015-07-21         tropical fruit\n",
       "2552          2015-05-01             whole milk\n",
       "2300          2015-09-19              pip fruit\n",
       "1187          2015-12-12       other vegetables\n",
       "3037          2015-01-02             whole milk\n",
       "...                  ...                    ...\n",
       "4471          2014-08-10          sliced cheese\n",
       "2022          2014-02-23                  candy\n",
       "1097          2014-04-16               cake bar\n",
       "1510          2014-03-12  fruit/vegetable juice\n",
       "1521          2014-12-26               cat food\n",
       "\n",
       "[38765 rows x 2 columns]"
      ]
     },
     "execution_count": 23,
     "metadata": {},
     "output_type": "execute_result"
    }
   ],
   "source": [
    "data_number = data.set_index(['Member_Number']) ## Setting date as index for plotting purpose\n",
    "data_number"
   ]
  },
  {
   "cell_type": "code",
   "execution_count": 24,
   "metadata": {
    "colab": {
     "base_uri": "https://localhost:8080/",
     "height": 204
    },
    "executionInfo": {
     "elapsed": 23,
     "status": "error",
     "timestamp": 1701164764047,
     "user": {
      "displayName": "mary kama",
      "userId": "01205540765635897452"
     },
     "user_tz": -60
    },
    "id": "iQ8FpzCf-ObM",
    "outputId": "35516a89-fa0b-4551-fab8-d944855c0c2a"
   },
   "outputs": [
    {
     "data": {
      "text/html": [
       "<div>\n",
       "<style scoped>\n",
       "    .dataframe tbody tr th:only-of-type {\n",
       "        vertical-align: middle;\n",
       "    }\n",
       "\n",
       "    .dataframe tbody tr th {\n",
       "        vertical-align: top;\n",
       "    }\n",
       "\n",
       "    .dataframe thead th {\n",
       "        text-align: right;\n",
       "    }\n",
       "</style>\n",
       "<table border=\"1\" class=\"dataframe\">\n",
       "  <thead>\n",
       "    <tr style=\"text-align: right;\">\n",
       "      <th></th>\n",
       "      <th>Date</th>\n",
       "      <th>Item_Description</th>\n",
       "    </tr>\n",
       "    <tr>\n",
       "      <th>Member_Number</th>\n",
       "      <th></th>\n",
       "      <th></th>\n",
       "    </tr>\n",
       "  </thead>\n",
       "  <tbody>\n",
       "    <tr>\n",
       "      <th>3037</th>\n",
       "      <td>2015-01-02</td>\n",
       "      <td>whole milk</td>\n",
       "    </tr>\n",
       "    <tr>\n",
       "      <th>3037</th>\n",
       "      <td>2015-02-23</td>\n",
       "      <td>cling film/bags</td>\n",
       "    </tr>\n",
       "    <tr>\n",
       "      <th>3037</th>\n",
       "      <td>2015-01-02</td>\n",
       "      <td>other vegetables</td>\n",
       "    </tr>\n",
       "    <tr>\n",
       "      <th>3037</th>\n",
       "      <td>2015-02-23</td>\n",
       "      <td>ham</td>\n",
       "    </tr>\n",
       "    <tr>\n",
       "      <th>3037</th>\n",
       "      <td>2015-01-02</td>\n",
       "      <td>white bread</td>\n",
       "    </tr>\n",
       "  </tbody>\n",
       "</table>\n",
       "</div>"
      ],
      "text/plain": [
       "                    Date  Item_Description\n",
       "Member_Number                             \n",
       "3037          2015-01-02        whole milk\n",
       "3037          2015-02-23   cling film/bags\n",
       "3037          2015-01-02  other vegetables\n",
       "3037          2015-02-23               ham\n",
       "3037          2015-01-02       white bread"
      ]
     },
     "execution_count": 24,
     "metadata": {},
     "output_type": "execute_result"
    }
   ],
   "source": [
    "# to get the record of a particular id, say 3037, that is extracting values from the dataset\n",
    "data_number.loc[3037]"
   ]
  },
  {
   "cell_type": "markdown",
   "metadata": {
    "id": "KT4EqzROCcmT"
   },
   "source": [
    "Observation\n",
    "\n",
    "It is seen from the 3037 id that was extracted, it is possible that person who buys cling films can also go for bags.\n",
    "we can do same to extract other member numbers to see the similarity in their purchase of one item and another."
   ]
  },
  {
   "cell_type": "code",
   "execution_count": 25,
   "metadata": {
    "colab": {
     "base_uri": "https://localhost:8080/"
    },
    "executionInfo": {
     "elapsed": 7,
     "status": "ok",
     "timestamp": 1700119341233,
     "user": {
      "displayName": "mary kama",
      "userId": "01205540765635897452"
     },
     "user_tz": -60
    },
    "id": "xM04wnxA-OX-",
    "outputId": "6e7c6245-6f4e-4502-ae33-5941beae52ee"
   },
   "outputs": [
    {
     "data": {
      "text/plain": [
       "Member_Number\n",
       "1808   2015-07-21\n",
       "2552   2015-05-01\n",
       "2300   2015-09-19\n",
       "1187   2015-12-12\n",
       "3037   2015-01-02\n",
       "4941   2015-02-14\n",
       "4501   2015-08-05\n",
       "3803   2015-12-23\n",
       "2762   2015-03-20\n",
       "4119   2015-12-02\n",
       "1340   2015-02-24\n",
       "2193   2015-04-14\n",
       "1997   2015-07-21\n",
       "4546   2015-03-09\n",
       "4736   2015-07-21\n",
       "1959   2015-03-30\n",
       "1974   2015-03-05\n",
       "2421   2015-02-09\n",
       "1513   2015-03-08\n",
       "1905   2015-07-07\n",
       "2810   2015-08-09\n",
       "2867   2015-12-11\n",
       "3962   2015-09-18\n",
       "1088   2015-11-30\n",
       "4976   2015-07-17\n",
       "4056   2015-12-06\n",
       "3611   2015-02-13\n",
       "1420   2015-01-14\n",
       "4286   2015-08-03\n",
       "4918   2015-01-27\n",
       "4783   2015-10-22\n",
       "3709   2015-10-26\n",
       "4289   2015-08-10\n",
       "1559   2015-03-10\n",
       "2900   2015-11-04\n",
       "1905   2015-02-21\n",
       "3527   2015-09-29\n",
       "1495   2015-09-01\n",
       "3558   2015-03-04\n",
       "3128   2015-04-20\n",
       "1863   2015-04-08\n",
       "3841   2015-07-19\n",
       "3903   2015-06-10\n",
       "2658   2015-10-16\n",
       "4272   2015-06-06\n",
       "1120   2015-09-26\n",
       "2676   2015-08-15\n",
       "1697   2015-05-21\n",
       "2507   2015-08-25\n",
       "4620   2015-11-03\n",
       "Name: Date, dtype: datetime64[ns]"
      ]
     },
     "execution_count": 25,
     "metadata": {},
     "output_type": "execute_result"
    }
   ],
   "source": [
    "#printing the first 50 rows\n",
    "data_number['Date'][:50]"
   ]
  },
  {
   "cell_type": "code",
   "execution_count": 26,
   "metadata": {
    "colab": {
     "base_uri": "https://localhost:8080/"
    },
    "executionInfo": {
     "elapsed": 851,
     "status": "ok",
     "timestamp": 1700122999948,
     "user": {
      "displayName": "mary kama",
      "userId": "01205540765635897452"
     },
     "user_tz": -60
    },
    "id": "dD5xAXGl-OPG",
    "outputId": "b8a28110-a43f-482d-aa11-82eadcfbda81"
   },
   "outputs": [
    {
     "data": {
      "text/plain": [
       "whole milk               2502\n",
       "other vegetables         1898\n",
       "rolls/buns               1716\n",
       "soda                     1514\n",
       "yogurt                   1334\n",
       "                         ... \n",
       "rubbing alcohol             5\n",
       "bags                        4\n",
       "baby cosmetics              3\n",
       "kitchen utensil             1\n",
       "preservation products       1\n",
       "Name: Item_Description, Length: 167, dtype: int64"
      ]
     },
     "execution_count": 26,
     "metadata": {},
     "output_type": "execute_result"
    }
   ],
   "source": [
    "#getting the count of items in the data set\n",
    "data['Item_Description'].value_counts()"
   ]
  },
  {
   "cell_type": "code",
   "execution_count": 27,
   "metadata": {
    "colab": {
     "base_uri": "https://localhost:8080/",
     "height": 238
    },
    "executionInfo": {
     "elapsed": 903,
     "status": "ok",
     "timestamp": 1700124360221,
     "user": {
      "displayName": "mary kama",
      "userId": "01205540765635897452"
     },
     "user_tz": -60
    },
    "id": "JQTdpjbpTHln",
    "outputId": "7469c5b4-b69f-461a-94e8-4ca7447aeba9"
   },
   "outputs": [
    {
     "data": {
      "text/html": [
       "<div>\n",
       "<style scoped>\n",
       "    .dataframe tbody tr th:only-of-type {\n",
       "        vertical-align: middle;\n",
       "    }\n",
       "\n",
       "    .dataframe tbody tr th {\n",
       "        vertical-align: top;\n",
       "    }\n",
       "\n",
       "    .dataframe thead th {\n",
       "        text-align: right;\n",
       "    }\n",
       "</style>\n",
       "<table border=\"1\" class=\"dataframe\">\n",
       "  <thead>\n",
       "    <tr style=\"text-align: right;\">\n",
       "      <th></th>\n",
       "      <th>Member_Number</th>\n",
       "      <th>Date</th>\n",
       "      <th>Item_Description</th>\n",
       "    </tr>\n",
       "  </thead>\n",
       "  <tbody>\n",
       "    <tr>\n",
       "      <th>1</th>\n",
       "      <td>2552</td>\n",
       "      <td>2015-05-01</td>\n",
       "      <td>whole milk</td>\n",
       "    </tr>\n",
       "    <tr>\n",
       "      <th>4</th>\n",
       "      <td>3037</td>\n",
       "      <td>2015-01-02</td>\n",
       "      <td>whole milk</td>\n",
       "    </tr>\n",
       "    <tr>\n",
       "      <th>8</th>\n",
       "      <td>2762</td>\n",
       "      <td>2015-03-20</td>\n",
       "      <td>whole milk</td>\n",
       "    </tr>\n",
       "    <tr>\n",
       "      <th>21</th>\n",
       "      <td>2867</td>\n",
       "      <td>2015-12-11</td>\n",
       "      <td>whole milk</td>\n",
       "    </tr>\n",
       "    <tr>\n",
       "      <th>53</th>\n",
       "      <td>1061</td>\n",
       "      <td>2015-05-09</td>\n",
       "      <td>whole milk</td>\n",
       "    </tr>\n",
       "  </tbody>\n",
       "</table>\n",
       "</div>"
      ],
      "text/plain": [
       "    Member_Number       Date Item_Description\n",
       "1            2552 2015-05-01       whole milk\n",
       "4            3037 2015-01-02       whole milk\n",
       "8            2762 2015-03-20       whole milk\n",
       "21           2867 2015-12-11       whole milk\n",
       "53           1061 2015-05-09       whole milk"
      ]
     },
     "execution_count": 27,
     "metadata": {},
     "output_type": "execute_result"
    }
   ],
   "source": [
    " #subset the data to only include whole milk\n",
    "data_wholemilk = data[data['Item_Description'] == 'whole milk']\n",
    "data_wholemilk.head()"
   ]
  },
  {
   "cell_type": "markdown",
   "metadata": {
    "colab": {
     "base_uri": "https://localhost:8080/",
     "height": 238
    },
    "executionInfo": {
     "elapsed": 716,
     "status": "ok",
     "timestamp": 1700124535344,
     "user": {
      "displayName": "mary kama",
      "userId": "01205540765635897452"
     },
     "user_tz": -60
    },
    "id": "8QzwjAkv-OMD",
    "outputId": "bb5bbc00-2f66-4d3c-efd5-f20878b2d085"
   },
   "source": [
    "#Split the whole milk to only include 1 name\n",
    "item_desc = data_wholemilk['Item_Description'].str.split(',', expand=True).stack()\n",
    "#convert to a dataframe\n",
    "item_desc = pd.DataFrame(item_desc)\n",
    "item_desc.head() # view the first few rows"
   ]
  },
  {
   "cell_type": "markdown",
   "metadata": {
    "colab": {
     "base_uri": "https://localhost:8080/",
     "height": 455
    },
    "executionInfo": {
     "elapsed": 631,
     "status": "ok",
     "timestamp": 1700125102684,
     "user": {
      "displayName": "mary kama",
      "userId": "01205540765635897452"
     },
     "user_tz": -60
    },
    "id": "In71_YVK-OI7",
    "outputId": "f0d292a3-2336-445b-f96d-aff8cabcd6f6"
   },
   "source": [
    "#### Using Apriori Algorithm for further analysis and enhance understanding"
   ]
  },
  {
   "cell_type": "code",
   "execution_count": 28,
   "metadata": {},
   "outputs": [
    {
     "data": {
      "text/html": [
       "<div>\n",
       "<style scoped>\n",
       "    .dataframe tbody tr th:only-of-type {\n",
       "        vertical-align: middle;\n",
       "    }\n",
       "\n",
       "    .dataframe tbody tr th {\n",
       "        vertical-align: top;\n",
       "    }\n",
       "\n",
       "    .dataframe thead th {\n",
       "        text-align: right;\n",
       "    }\n",
       "</style>\n",
       "<table border=\"1\" class=\"dataframe\">\n",
       "  <thead>\n",
       "    <tr style=\"text-align: right;\">\n",
       "      <th></th>\n",
       "      <th>Member_Number</th>\n",
       "      <th>Date</th>\n",
       "      <th>Item_Description</th>\n",
       "    </tr>\n",
       "  </thead>\n",
       "  <tbody>\n",
       "    <tr>\n",
       "      <th>0</th>\n",
       "      <td>1808</td>\n",
       "      <td>2015-07-21</td>\n",
       "      <td>tropical fruit</td>\n",
       "    </tr>\n",
       "    <tr>\n",
       "      <th>1</th>\n",
       "      <td>2552</td>\n",
       "      <td>2015-05-01</td>\n",
       "      <td>whole milk</td>\n",
       "    </tr>\n",
       "  </tbody>\n",
       "</table>\n",
       "</div>"
      ],
      "text/plain": [
       "   Member_Number       Date Item_Description\n",
       "0           1808 2015-07-21   tropical fruit\n",
       "1           2552 2015-05-01       whole milk"
      ]
     },
     "execution_count": 28,
     "metadata": {},
     "output_type": "execute_result"
    }
   ],
   "source": [
    "data.head(2)"
   ]
  },
  {
   "cell_type": "code",
   "execution_count": 29,
   "metadata": {},
   "outputs": [],
   "source": [
    "data['Transaction'] = data['Member_Number'].astype(str)+'_'+data['Date'].astype(str)"
   ]
  },
  {
   "cell_type": "code",
   "execution_count": 30,
   "metadata": {},
   "outputs": [
    {
     "data": {
      "text/html": [
       "<div>\n",
       "<style scoped>\n",
       "    .dataframe tbody tr th:only-of-type {\n",
       "        vertical-align: middle;\n",
       "    }\n",
       "\n",
       "    .dataframe tbody tr th {\n",
       "        vertical-align: top;\n",
       "    }\n",
       "\n",
       "    .dataframe thead th {\n",
       "        text-align: right;\n",
       "    }\n",
       "</style>\n",
       "<table border=\"1\" class=\"dataframe\">\n",
       "  <thead>\n",
       "    <tr style=\"text-align: right;\">\n",
       "      <th></th>\n",
       "      <th>Member_Number</th>\n",
       "      <th>Date</th>\n",
       "      <th>Item_Description</th>\n",
       "      <th>Transaction</th>\n",
       "    </tr>\n",
       "  </thead>\n",
       "  <tbody>\n",
       "    <tr>\n",
       "      <th>0</th>\n",
       "      <td>1808</td>\n",
       "      <td>2015-07-21</td>\n",
       "      <td>tropical fruit</td>\n",
       "      <td>1808_2015-07-21</td>\n",
       "    </tr>\n",
       "    <tr>\n",
       "      <th>1</th>\n",
       "      <td>2552</td>\n",
       "      <td>2015-05-01</td>\n",
       "      <td>whole milk</td>\n",
       "      <td>2552_2015-05-01</td>\n",
       "    </tr>\n",
       "  </tbody>\n",
       "</table>\n",
       "</div>"
      ],
      "text/plain": [
       "   Member_Number       Date Item_Description      Transaction\n",
       "0           1808 2015-07-21   tropical fruit  1808_2015-07-21\n",
       "1           2552 2015-05-01       whole milk  2552_2015-05-01"
      ]
     },
     "execution_count": 30,
     "metadata": {},
     "output_type": "execute_result"
    }
   ],
   "source": [
    "data.head(2)"
   ]
  },
  {
   "cell_type": "markdown",
   "metadata": {},
   "source": [
    "#### Installing and importing the necessary packages for the apriori algorithm"
   ]
  },
  {
   "cell_type": "code",
   "execution_count": 31,
   "metadata": {},
   "outputs": [
    {
     "name": "stdout",
     "output_type": "stream",
     "text": [
      "Requirement already satisfied: mlxtend in c:\\users\\mdi\\anaconda3\\lib\\site-packages (0.23.0)\n",
      "Requirement already satisfied: matplotlib>=3.0.0 in c:\\users\\mdi\\anaconda3\\lib\\site-packages (from mlxtend) (3.1.3)\n",
      "Requirement already satisfied: scipy>=1.2.1 in c:\\users\\mdi\\anaconda3\\lib\\site-packages (from mlxtend) (1.4.1)\n",
      "Requirement already satisfied: joblib>=0.13.2 in c:\\users\\mdi\\anaconda3\\lib\\site-packages (from mlxtend) (0.14.1)\n",
      "Requirement already satisfied: pandas>=0.24.2 in c:\\users\\mdi\\anaconda3\\lib\\site-packages (from mlxtend) (1.3.5)\n",
      "Requirement already satisfied: scikit-learn>=1.0.2 in c:\\users\\mdi\\anaconda3\\lib\\site-packages (from mlxtend) (1.0.2)\n",
      "Requirement already satisfied: numpy>=1.16.2 in c:\\users\\mdi\\anaconda3\\lib\\site-packages (from mlxtend) (1.18.1)\n",
      "Requirement already satisfied: cycler>=0.10 in c:\\users\\mdi\\anaconda3\\lib\\site-packages (from matplotlib>=3.0.0->mlxtend) (0.10.0)\n",
      "Requirement already satisfied: python-dateutil>=2.1 in c:\\users\\mdi\\anaconda3\\lib\\site-packages (from matplotlib>=3.0.0->mlxtend) (2.8.1)\n",
      "Requirement already satisfied: kiwisolver>=1.0.1 in c:\\users\\mdi\\anaconda3\\lib\\site-packages (from matplotlib>=3.0.0->mlxtend) (1.1.0)\n",
      "Requirement already satisfied: pyparsing!=2.0.4,!=2.1.2,!=2.1.6,>=2.0.1 in c:\\users\\mdi\\anaconda3\\lib\\site-packages (from matplotlib>=3.0.0->mlxtend) (2.4.6)\n",
      "Requirement already satisfied: pytz>=2017.3 in c:\\users\\mdi\\anaconda3\\lib\\site-packages (from pandas>=0.24.2->mlxtend) (2023.3)\n",
      "Requirement already satisfied: threadpoolctl>=2.0.0 in c:\\users\\mdi\\anaconda3\\lib\\site-packages (from scikit-learn>=1.0.2->mlxtend) (3.1.0)\n",
      "Requirement already satisfied: six in c:\\users\\mdi\\anaconda3\\lib\\site-packages (from cycler>=0.10->matplotlib>=3.0.0->mlxtend) (1.14.0)\n",
      "Requirement already satisfied: setuptools in c:\\users\\mdi\\anaconda3\\lib\\site-packages (from kiwisolver>=1.0.1->matplotlib>=3.0.0->mlxtend) (45.2.0.post20200210)\n",
      "Note: you may need to restart the kernel to use updated packages.\n"
     ]
    }
   ],
   "source": [
    "pip install mlxtend"
   ]
  },
  {
   "cell_type": "code",
   "execution_count": 47,
   "metadata": {
    "colab": {
     "base_uri": "https://localhost:8080/",
     "height": 360
    },
    "executionInfo": {
     "elapsed": 1153,
     "status": "error",
     "timestamp": 1700125238570,
     "user": {
      "displayName": "mary kama",
      "userId": "01205540765635897452"
     },
     "user_tz": -60
    },
    "id": "qXm23vTs-OF1",
    "outputId": "4833dd63-23ff-4016-9e4a-fb411a9ab61f"
   },
   "outputs": [
    {
     "data": {
      "text/html": [
       "<div>\n",
       "<style scoped>\n",
       "    .dataframe tbody tr th:only-of-type {\n",
       "        vertical-align: middle;\n",
       "    }\n",
       "\n",
       "    .dataframe tbody tr th {\n",
       "        vertical-align: top;\n",
       "    }\n",
       "\n",
       "    .dataframe thead th {\n",
       "        text-align: right;\n",
       "    }\n",
       "</style>\n",
       "<table border=\"1\" class=\"dataframe\">\n",
       "  <thead>\n",
       "    <tr style=\"text-align: right;\">\n",
       "      <th>Item_Description</th>\n",
       "      <th>Instant food products</th>\n",
       "      <th>...</th>\n",
       "    </tr>\n",
       "    <tr>\n",
       "      <th>Transaction</th>\n",
       "      <th></th>\n",
       "      <th></th>\n",
       "    </tr>\n",
       "  </thead>\n",
       "  <tbody>\n",
       "    <tr>\n",
       "      <th>1000_2014-06-24</th>\n",
       "      <td>0</td>\n",
       "      <td>...</td>\n",
       "    </tr>\n",
       "    <tr>\n",
       "      <th>1000_2015-03-15</th>\n",
       "      <td>0</td>\n",
       "      <td>...</td>\n",
       "    </tr>\n",
       "    <tr>\n",
       "      <th>1000_2015-05-27</th>\n",
       "      <td>0</td>\n",
       "      <td>...</td>\n",
       "    </tr>\n",
       "    <tr>\n",
       "      <th>1000_2015-07-24</th>\n",
       "      <td>0</td>\n",
       "      <td>...</td>\n",
       "    </tr>\n",
       "    <tr>\n",
       "      <th>1000_2015-11-25</th>\n",
       "      <td>0</td>\n",
       "      <td>...</td>\n",
       "    </tr>\n",
       "  </tbody>\n",
       "</table>\n",
       "<p>5 rows × 167 columns</p>\n",
       "</div>"
      ],
      "text/plain": [
       "Item_Description  Instant food products  ...\n",
       "Transaction                              ...\n",
       "1000_2014-06-24                       0  ...\n",
       "1000_2015-03-15                       0  ...\n",
       "1000_2015-05-27                       0  ...\n",
       "1000_2015-07-24                       0  ...\n",
       "1000_2015-11-25                       0  ...\n",
       "\n",
       "[5 rows x 167 columns]"
      ]
     },
     "execution_count": 47,
     "metadata": {},
     "output_type": "execute_result"
    }
   ],
   "source": [
    "data2 = pd.crosstab(data['Transaction'], data['Item_Description'])\n",
    "data2.head()\n"
   ]
  },
  {
   "cell_type": "markdown",
   "metadata": {
    "id": "_CBm1qcR-OCm"
   },
   "source": [
    "Here there are 5 rows and 167 columns which shows how many items or how many times an item is being purchased in a\n",
    "one transaction. That is for instance in 1000 transactions made in 2014-06-24, while most people only shop for 2-3 items,some items where not shopped which indicates 0 (zero)."
   ]
  },
  {
   "cell_type": "markdown",
   "metadata": {},
   "source": [
    "#### Data preprocessing"
   ]
  },
  {
   "cell_type": "code",
   "execution_count": 53,
   "metadata": {
    "id": "xWO_iEh6-N_e"
   },
   "outputs": [],
   "source": [
    "#encoding all values in the data frame to 0 and 1 (to numerical values).\n",
    "\n",
    "def encode(item_freq):\n",
    "    i = 0\n",
    "    if item_freq > 0:\n",
    "        i = 1\n",
    "    return i\n",
    "    \n",
    "basket = data2.applymap(encode)\n",
    "\n",
    "\n"
   ]
  },
  {
   "cell_type": "code",
   "execution_count": 55,
   "metadata": {
    "id": "OwT8AJJI-N8V"
   },
   "outputs": [
    {
     "data": {
      "text/html": [
       "<div>\n",
       "<style scoped>\n",
       "    .dataframe tbody tr th:only-of-type {\n",
       "        vertical-align: middle;\n",
       "    }\n",
       "\n",
       "    .dataframe tbody tr th {\n",
       "        vertical-align: top;\n",
       "    }\n",
       "\n",
       "    .dataframe thead th {\n",
       "        text-align: right;\n",
       "    }\n",
       "</style>\n",
       "<table border=\"1\" class=\"dataframe\">\n",
       "  <thead>\n",
       "    <tr style=\"text-align: right;\">\n",
       "      <th></th>\n",
       "      <th>antecedents</th>\n",
       "      <th>consequents</th>\n",
       "      <th>antecedent support</th>\n",
       "      <th>consequent support</th>\n",
       "      <th>support</th>\n",
       "      <th>confidence</th>\n",
       "      <th>lift</th>\n",
       "      <th>leverage</th>\n",
       "      <th>conviction</th>\n",
       "      <th>zhangs_metric</th>\n",
       "    </tr>\n",
       "  </thead>\n",
       "  <tbody>\n",
       "    <tr>\n",
       "      <th>0</th>\n",
       "      <td>(bottled water)</td>\n",
       "      <td>(UHT-milk)</td>\n",
       "      <td>0.060683</td>\n",
       "      <td>0.021386</td>\n",
       "      <td>0.001069</td>\n",
       "      <td>0.017621</td>\n",
       "      <td>0.823954</td>\n",
       "      <td>-0.000228</td>\n",
       "      <td>0.996168</td>\n",
       "      <td>-0.185312</td>\n",
       "    </tr>\n",
       "    <tr>\n",
       "      <th>1</th>\n",
       "      <td>(UHT-milk)</td>\n",
       "      <td>(bottled water)</td>\n",
       "      <td>0.021386</td>\n",
       "      <td>0.060683</td>\n",
       "      <td>0.001069</td>\n",
       "      <td>0.050000</td>\n",
       "      <td>0.823954</td>\n",
       "      <td>-0.000228</td>\n",
       "      <td>0.988755</td>\n",
       "      <td>-0.179204</td>\n",
       "    </tr>\n",
       "    <tr>\n",
       "      <th>2</th>\n",
       "      <td>(other vegetables)</td>\n",
       "      <td>(UHT-milk)</td>\n",
       "      <td>0.122101</td>\n",
       "      <td>0.021386</td>\n",
       "      <td>0.002139</td>\n",
       "      <td>0.017515</td>\n",
       "      <td>0.818993</td>\n",
       "      <td>-0.000473</td>\n",
       "      <td>0.996060</td>\n",
       "      <td>-0.201119</td>\n",
       "    </tr>\n",
       "    <tr>\n",
       "      <th>3</th>\n",
       "      <td>(UHT-milk)</td>\n",
       "      <td>(other vegetables)</td>\n",
       "      <td>0.021386</td>\n",
       "      <td>0.122101</td>\n",
       "      <td>0.002139</td>\n",
       "      <td>0.100000</td>\n",
       "      <td>0.818993</td>\n",
       "      <td>-0.000473</td>\n",
       "      <td>0.975443</td>\n",
       "      <td>-0.184234</td>\n",
       "    </tr>\n",
       "    <tr>\n",
       "      <th>4</th>\n",
       "      <td>(UHT-milk)</td>\n",
       "      <td>(sausage)</td>\n",
       "      <td>0.021386</td>\n",
       "      <td>0.060349</td>\n",
       "      <td>0.001136</td>\n",
       "      <td>0.053125</td>\n",
       "      <td>0.880298</td>\n",
       "      <td>-0.000154</td>\n",
       "      <td>0.992371</td>\n",
       "      <td>-0.121998</td>\n",
       "    </tr>\n",
       "  </tbody>\n",
       "</table>\n",
       "</div>"
      ],
      "text/plain": [
       "          antecedents         consequents  antecedent support  \\\n",
       "0     (bottled water)          (UHT-milk)            0.060683   \n",
       "1          (UHT-milk)     (bottled water)            0.021386   \n",
       "2  (other vegetables)          (UHT-milk)            0.122101   \n",
       "3          (UHT-milk)  (other vegetables)            0.021386   \n",
       "4          (UHT-milk)           (sausage)            0.021386   \n",
       "\n",
       "   consequent support   support  confidence      lift  leverage  conviction  \\\n",
       "0            0.021386  0.001069    0.017621  0.823954 -0.000228    0.996168   \n",
       "1            0.060683  0.001069    0.050000  0.823954 -0.000228    0.988755   \n",
       "2            0.021386  0.002139    0.017515  0.818993 -0.000473    0.996060   \n",
       "3            0.122101  0.002139    0.100000  0.818993 -0.000473    0.975443   \n",
       "4            0.060349  0.001136    0.053125  0.880298 -0.000154    0.992371   \n",
       "\n",
       "   zhangs_metric  \n",
       "0      -0.185312  \n",
       "1      -0.179204  \n",
       "2      -0.201119  \n",
       "3      -0.184234  \n",
       "4      -0.121998  "
      ]
     },
     "execution_count": 55,
     "metadata": {},
     "output_type": "execute_result"
    }
   ],
   "source": [
    "from mlxtend.frequent_patterns import apriori\n",
    "from mlxtend.frequent_patterns import association_rules\n",
    "pd.set_option('max_rows', 167)\n",
    "pd.set_option('max_columns', 10)\n",
    "frequent_itemsets = apriori(basket, min_support=0.001, use_colnames=True)\n",
    "\n",
    "rules = association_rules(frequent_itemsets, metric=\"lift\")\n",
    "\n",
    "rules.head()\n",
    "\n"
   ]
  },
  {
   "cell_type": "markdown",
   "metadata": {
    "id": "W70hkvqH-N51"
   },
   "source": [
    "Here, the antecedents and consequents columns inidcate items that are frequently purchased. So there is every likelihood that if customers purchase bottle water,they can aslo purchase UHT-milk."
   ]
  },
  {
   "cell_type": "code",
   "execution_count": 57,
   "metadata": {
    "id": "N4kZcRzF-N3g"
   },
   "outputs": [
    {
     "data": {
      "text/html": [
       "<div>\n",
       "<style scoped>\n",
       "    .dataframe tbody tr th:only-of-type {\n",
       "        vertical-align: middle;\n",
       "    }\n",
       "\n",
       "    .dataframe tbody tr th {\n",
       "        vertical-align: top;\n",
       "    }\n",
       "\n",
       "    .dataframe thead th {\n",
       "        text-align: right;\n",
       "    }\n",
       "</style>\n",
       "<table border=\"1\" class=\"dataframe\">\n",
       "  <thead>\n",
       "    <tr style=\"text-align: right;\">\n",
       "      <th></th>\n",
       "      <th>antecedents</th>\n",
       "      <th>consequents</th>\n",
       "      <th>antecedent support</th>\n",
       "      <th>consequent support</th>\n",
       "      <th>support</th>\n",
       "      <th>confidence</th>\n",
       "      <th>lift</th>\n",
       "      <th>leverage</th>\n",
       "      <th>conviction</th>\n",
       "      <th>zhangs_metric</th>\n",
       "    </tr>\n",
       "  </thead>\n",
       "  <tbody>\n",
       "    <tr>\n",
       "      <th>623</th>\n",
       "      <td>(rolls/buns)</td>\n",
       "      <td>(whole milk)</td>\n",
       "      <td>0.110005</td>\n",
       "      <td>0.157923</td>\n",
       "      <td>0.013968</td>\n",
       "      <td>0.126974</td>\n",
       "      <td>0.804028</td>\n",
       "      <td>-0.003404</td>\n",
       "      <td>0.964550</td>\n",
       "      <td>-0.214986</td>\n",
       "    </tr>\n",
       "    <tr>\n",
       "      <th>622</th>\n",
       "      <td>(whole milk)</td>\n",
       "      <td>(rolls/buns)</td>\n",
       "      <td>0.157923</td>\n",
       "      <td>0.110005</td>\n",
       "      <td>0.013968</td>\n",
       "      <td>0.088447</td>\n",
       "      <td>0.804028</td>\n",
       "      <td>-0.003404</td>\n",
       "      <td>0.976350</td>\n",
       "      <td>-0.224474</td>\n",
       "    </tr>\n",
       "    <tr>\n",
       "      <th>695</th>\n",
       "      <td>(yogurt)</td>\n",
       "      <td>(whole milk)</td>\n",
       "      <td>0.085879</td>\n",
       "      <td>0.157923</td>\n",
       "      <td>0.011161</td>\n",
       "      <td>0.129961</td>\n",
       "      <td>0.822940</td>\n",
       "      <td>-0.002401</td>\n",
       "      <td>0.967861</td>\n",
       "      <td>-0.190525</td>\n",
       "    </tr>\n",
       "    <tr>\n",
       "      <th>694</th>\n",
       "      <td>(whole milk)</td>\n",
       "      <td>(yogurt)</td>\n",
       "      <td>0.157923</td>\n",
       "      <td>0.085879</td>\n",
       "      <td>0.011161</td>\n",
       "      <td>0.070673</td>\n",
       "      <td>0.822940</td>\n",
       "      <td>-0.002401</td>\n",
       "      <td>0.983638</td>\n",
       "      <td>-0.203508</td>\n",
       "    </tr>\n",
       "    <tr>\n",
       "      <th>550</th>\n",
       "      <td>(soda)</td>\n",
       "      <td>(other vegetables)</td>\n",
       "      <td>0.097106</td>\n",
       "      <td>0.122101</td>\n",
       "      <td>0.009691</td>\n",
       "      <td>0.099794</td>\n",
       "      <td>0.817302</td>\n",
       "      <td>-0.002166</td>\n",
       "      <td>0.975219</td>\n",
       "      <td>-0.198448</td>\n",
       "    </tr>\n",
       "    <tr>\n",
       "      <th>551</th>\n",
       "      <td>(other vegetables)</td>\n",
       "      <td>(soda)</td>\n",
       "      <td>0.122101</td>\n",
       "      <td>0.097106</td>\n",
       "      <td>0.009691</td>\n",
       "      <td>0.079365</td>\n",
       "      <td>0.817302</td>\n",
       "      <td>-0.002166</td>\n",
       "      <td>0.980729</td>\n",
       "      <td>-0.202951</td>\n",
       "    </tr>\n",
       "    <tr>\n",
       "      <th>649</th>\n",
       "      <td>(sausage)</td>\n",
       "      <td>(whole milk)</td>\n",
       "      <td>0.060349</td>\n",
       "      <td>0.157923</td>\n",
       "      <td>0.008955</td>\n",
       "      <td>0.148394</td>\n",
       "      <td>0.939663</td>\n",
       "      <td>-0.000575</td>\n",
       "      <td>0.988811</td>\n",
       "      <td>-0.063965</td>\n",
       "    </tr>\n",
       "    <tr>\n",
       "      <th>648</th>\n",
       "      <td>(whole milk)</td>\n",
       "      <td>(sausage)</td>\n",
       "      <td>0.157923</td>\n",
       "      <td>0.060349</td>\n",
       "      <td>0.008955</td>\n",
       "      <td>0.056708</td>\n",
       "      <td>0.939663</td>\n",
       "      <td>-0.000575</td>\n",
       "      <td>0.996140</td>\n",
       "      <td>-0.070851</td>\n",
       "    </tr>\n",
       "    <tr>\n",
       "      <th>624</th>\n",
       "      <td>(yogurt)</td>\n",
       "      <td>(rolls/buns)</td>\n",
       "      <td>0.085879</td>\n",
       "      <td>0.110005</td>\n",
       "      <td>0.007819</td>\n",
       "      <td>0.091051</td>\n",
       "      <td>0.827697</td>\n",
       "      <td>-0.001628</td>\n",
       "      <td>0.979147</td>\n",
       "      <td>-0.185487</td>\n",
       "    </tr>\n",
       "    <tr>\n",
       "      <th>625</th>\n",
       "      <td>(rolls/buns)</td>\n",
       "      <td>(yogurt)</td>\n",
       "      <td>0.110005</td>\n",
       "      <td>0.085879</td>\n",
       "      <td>0.007819</td>\n",
       "      <td>0.071081</td>\n",
       "      <td>0.827697</td>\n",
       "      <td>-0.001628</td>\n",
       "      <td>0.984071</td>\n",
       "      <td>-0.189562</td>\n",
       "    </tr>\n",
       "  </tbody>\n",
       "</table>\n",
       "</div>"
      ],
      "text/plain": [
       "            antecedents         consequents  antecedent support  \\\n",
       "623        (rolls/buns)        (whole milk)            0.110005   \n",
       "622        (whole milk)        (rolls/buns)            0.157923   \n",
       "695            (yogurt)        (whole milk)            0.085879   \n",
       "694        (whole milk)            (yogurt)            0.157923   \n",
       "550              (soda)  (other vegetables)            0.097106   \n",
       "551  (other vegetables)              (soda)            0.122101   \n",
       "649           (sausage)        (whole milk)            0.060349   \n",
       "648        (whole milk)           (sausage)            0.157923   \n",
       "624            (yogurt)        (rolls/buns)            0.085879   \n",
       "625        (rolls/buns)            (yogurt)            0.110005   \n",
       "\n",
       "     consequent support   support  confidence      lift  leverage  conviction  \\\n",
       "623            0.157923  0.013968    0.126974  0.804028 -0.003404    0.964550   \n",
       "622            0.110005  0.013968    0.088447  0.804028 -0.003404    0.976350   \n",
       "695            0.157923  0.011161    0.129961  0.822940 -0.002401    0.967861   \n",
       "694            0.085879  0.011161    0.070673  0.822940 -0.002401    0.983638   \n",
       "550            0.122101  0.009691    0.099794  0.817302 -0.002166    0.975219   \n",
       "551            0.097106  0.009691    0.079365  0.817302 -0.002166    0.980729   \n",
       "649            0.157923  0.008955    0.148394  0.939663 -0.000575    0.988811   \n",
       "648            0.060349  0.008955    0.056708  0.939663 -0.000575    0.996140   \n",
       "624            0.110005  0.007819    0.091051  0.827697 -0.001628    0.979147   \n",
       "625            0.085879  0.007819    0.071081  0.827697 -0.001628    0.984071   \n",
       "\n",
       "     zhangs_metric  \n",
       "623      -0.214986  \n",
       "622      -0.224474  \n",
       "695      -0.190525  \n",
       "694      -0.203508  \n",
       "550      -0.198448  \n",
       "551      -0.202951  \n",
       "649      -0.063965  \n",
       "648      -0.070851  \n",
       "624      -0.185487  \n",
       "625      -0.189562  "
      ]
     },
     "execution_count": 57,
     "metadata": {},
     "output_type": "execute_result"
    }
   ],
   "source": [
    "#To get the 10 most frequently combined items in the entire dataset. we then sort the dataset by support, confidence, and lift:\n",
    "\n",
    "rules.sort_values([\"support\", \"confidence\",\"lift\"],axis = 0, ascending = False).head(10)\n"
   ]
  },
  {
   "cell_type": "markdown",
   "metadata": {
    "id": "kM7kgqb7-NlA"
   },
   "source": [
    "Observation\n",
    "buns and milk, yogurt and milk, sausage and milk, soda and vegetable, and yogurt and buns; these are the frequently combined purchases made by customers"
   ]
  },
  {
   "cell_type": "markdown",
   "metadata": {},
   "source": [
    "Recommendation:\n",
    "I would recommend that in subsequent analysis should:\n",
    "1.try doing the visualization of sales and items on daily basis,\n",
    "2.the use of machine learning algorithm be used to make prediction in relationship with the items. "
   ]
  },
  {
   "cell_type": "markdown",
   "metadata": {
    "id": "LZrZ62Zo2plt"
   },
   "source": [
    "# References\n",
    "1.  https://365datascience.com/tutorials/python-tutorials/market-basket-analysis/\n",
    "2. https://www.kaggle.com/code/subhadeepdebnath/market-basket-analysis-apriori-perfect-template"
   ]
  }
 ],
 "metadata": {
  "colab": {
   "authorship_tag": "ABX9TyPD+jvxglsqIVfE+CJx8/M6",
   "mount_file_id": "1IGKawEvnw99K5_MW7T_XJKsnCOT11LPA",
   "provenance": []
  },
  "kernelspec": {
   "display_name": "Python 3",
   "language": "python",
   "name": "python3"
  },
  "language_info": {
   "codemirror_mode": {
    "name": "ipython",
    "version": 3
   },
   "file_extension": ".py",
   "mimetype": "text/x-python",
   "name": "python",
   "nbconvert_exporter": "python",
   "pygments_lexer": "ipython3",
   "version": "3.7.6"
  }
 },
 "nbformat": 4,
 "nbformat_minor": 1
}
